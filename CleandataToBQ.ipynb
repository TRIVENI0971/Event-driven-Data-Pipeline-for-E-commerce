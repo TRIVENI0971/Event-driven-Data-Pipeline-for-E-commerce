{
 "cells": [
  {
   "cell_type": "code",
   "execution_count": 17,
   "metadata": {},
   "outputs": [
    {
     "name": "stdout",
     "output_type": "stream",
     "text": [
      "C:\\Users\\Tammana Triveni\\Downloads\\black-seer-454106-e1-4bafb35faab6.json\n"
     ]
    }
   ],
   "source": [
    "import os\n",
    "os.environ[\"GOOGLE_APPLICATION_CREDENTIALS\"]=r\"C:\\Users\\Tammana Triveni\\Downloads\\black-seer-454106-e1-4bafb35faab6.json\"\n",
    "\n",
    "print(os.environ[\"GOOGLE_APPLICATION_CREDENTIALS\"])\n",
    "\n",
    "BQ_PROJECT = \"black-seer-454106-e1\"\n",
    "BQ_DATASET = \"DataPipeline\""
   ]
  },
  {
   "cell_type": "code",
   "execution_count": 18,
   "metadata": {},
   "outputs": [
    {
     "name": "stdout",
     "output_type": "stream",
     "text": [
      "C:\\Users\\Tammana Triveni\\Music\\EcommProject\\EcommProject\n",
      "C:\\Users\\Tammana Triveni\\Music\\EcommProject\\EcommProject\n"
     ]
    }
   ],
   "source": [
    "# !pip install pandas faker\n",
    "import os\n",
    "print(os.getcwd())\n",
    "\n",
    "os.chdir(r'C:\\Users\\Tammana Triveni\\Music\\EcommProject\\EcommProject')  # Replace with your desired path\n",
    "print(os.getcwd())"
   ]
  },
  {
   "cell_type": "code",
   "execution_count": 19,
   "metadata": {},
   "outputs": [
    {
     "name": "stdout",
     "output_type": "stream",
     "text": [
      "Dataset: customers_dataset.csv\n"
     ]
    },
    {
     "data": {
      "text/html": [
       "<div>\n",
       "<style scoped>\n",
       "    .dataframe tbody tr th:only-of-type {\n",
       "        vertical-align: middle;\n",
       "    }\n",
       "\n",
       "    .dataframe tbody tr th {\n",
       "        vertical-align: top;\n",
       "    }\n",
       "\n",
       "    .dataframe thead th {\n",
       "        text-align: right;\n",
       "    }\n",
       "</style>\n",
       "<table border=\"1\" class=\"dataframe\">\n",
       "  <thead>\n",
       "    <tr style=\"text-align: right;\">\n",
       "      <th></th>\n",
       "      <th>customer_id</th>\n",
       "      <th>customer_unique_id</th>\n",
       "      <th>customer_zip_code_prefix</th>\n",
       "      <th>customer_city</th>\n",
       "      <th>customer_state</th>\n",
       "    </tr>\n",
       "  </thead>\n",
       "  <tbody>\n",
       "    <tr>\n",
       "      <th>0</th>\n",
       "      <td>06b8999e2fba1a1fbc88172c00ba8bc7</td>\n",
       "      <td>861eff4711a542e4b93843c6dd7febb0</td>\n",
       "      <td>14409</td>\n",
       "      <td>franca</td>\n",
       "      <td>SP</td>\n",
       "    </tr>\n",
       "    <tr>\n",
       "      <th>1</th>\n",
       "      <td>18955e83d337fd6b2def6b18a428ac77</td>\n",
       "      <td>290c77bc529b7ac935b93aa66c333dc3</td>\n",
       "      <td>9790</td>\n",
       "      <td>sao bernardo do campo</td>\n",
       "      <td>SP</td>\n",
       "    </tr>\n",
       "    <tr>\n",
       "      <th>2</th>\n",
       "      <td>4e7b3e00288586ebd08712fdd0374a03</td>\n",
       "      <td>060e732b5b29e8181a18229c7b0b2b5e</td>\n",
       "      <td>1151</td>\n",
       "      <td>sao paulo</td>\n",
       "      <td>SP</td>\n",
       "    </tr>\n",
       "    <tr>\n",
       "      <th>3</th>\n",
       "      <td>b2b6027bc5c5109e529d4dc6358b12c3</td>\n",
       "      <td>259dac757896d24d7702b9acbbff3f3c</td>\n",
       "      <td>8775</td>\n",
       "      <td>mogi das cruzes</td>\n",
       "      <td>SP</td>\n",
       "    </tr>\n",
       "    <tr>\n",
       "      <th>4</th>\n",
       "      <td>4f2d8ab171c80ec8364f7c12e35b23ad</td>\n",
       "      <td>345ecd01c38d18a9036ed96c73b8d066</td>\n",
       "      <td>13056</td>\n",
       "      <td>campinas</td>\n",
       "      <td>SP</td>\n",
       "    </tr>\n",
       "  </tbody>\n",
       "</table>\n",
       "</div>"
      ],
      "text/plain": [
       "                        customer_id                customer_unique_id  \\\n",
       "0  06b8999e2fba1a1fbc88172c00ba8bc7  861eff4711a542e4b93843c6dd7febb0   \n",
       "1  18955e83d337fd6b2def6b18a428ac77  290c77bc529b7ac935b93aa66c333dc3   \n",
       "2  4e7b3e00288586ebd08712fdd0374a03  060e732b5b29e8181a18229c7b0b2b5e   \n",
       "3  b2b6027bc5c5109e529d4dc6358b12c3  259dac757896d24d7702b9acbbff3f3c   \n",
       "4  4f2d8ab171c80ec8364f7c12e35b23ad  345ecd01c38d18a9036ed96c73b8d066   \n",
       "\n",
       "   customer_zip_code_prefix          customer_city customer_state  \n",
       "0                     14409                 franca             SP  \n",
       "1                      9790  sao bernardo do campo             SP  \n",
       "2                      1151              sao paulo             SP  \n",
       "3                      8775        mogi das cruzes             SP  \n",
       "4                     13056               campinas             SP  "
      ]
     },
     "metadata": {},
     "output_type": "display_data"
    },
    {
     "name": "stdout",
     "output_type": "stream",
     "text": [
      "Dataset: geolocation_dataset.csv\n"
     ]
    },
    {
     "data": {
      "text/html": [
       "<div>\n",
       "<style scoped>\n",
       "    .dataframe tbody tr th:only-of-type {\n",
       "        vertical-align: middle;\n",
       "    }\n",
       "\n",
       "    .dataframe tbody tr th {\n",
       "        vertical-align: top;\n",
       "    }\n",
       "\n",
       "    .dataframe thead th {\n",
       "        text-align: right;\n",
       "    }\n",
       "</style>\n",
       "<table border=\"1\" class=\"dataframe\">\n",
       "  <thead>\n",
       "    <tr style=\"text-align: right;\">\n",
       "      <th></th>\n",
       "      <th>geolocation_zip_code_prefix</th>\n",
       "      <th>geolocation_lat</th>\n",
       "      <th>geolocation_lng</th>\n",
       "      <th>geolocation_city</th>\n",
       "      <th>geolocation_state</th>\n",
       "    </tr>\n",
       "  </thead>\n",
       "  <tbody>\n",
       "    <tr>\n",
       "      <th>0</th>\n",
       "      <td>1037</td>\n",
       "      <td>-23.545621</td>\n",
       "      <td>-46.639292</td>\n",
       "      <td>sao paulo</td>\n",
       "      <td>SP</td>\n",
       "    </tr>\n",
       "    <tr>\n",
       "      <th>1</th>\n",
       "      <td>1046</td>\n",
       "      <td>-23.546081</td>\n",
       "      <td>-46.644820</td>\n",
       "      <td>sao paulo</td>\n",
       "      <td>SP</td>\n",
       "    </tr>\n",
       "    <tr>\n",
       "      <th>2</th>\n",
       "      <td>1046</td>\n",
       "      <td>-23.546129</td>\n",
       "      <td>-46.642951</td>\n",
       "      <td>sao paulo</td>\n",
       "      <td>SP</td>\n",
       "    </tr>\n",
       "    <tr>\n",
       "      <th>3</th>\n",
       "      <td>1041</td>\n",
       "      <td>-23.544392</td>\n",
       "      <td>-46.639499</td>\n",
       "      <td>sao paulo</td>\n",
       "      <td>SP</td>\n",
       "    </tr>\n",
       "    <tr>\n",
       "      <th>4</th>\n",
       "      <td>1035</td>\n",
       "      <td>-23.541578</td>\n",
       "      <td>-46.641607</td>\n",
       "      <td>sao paulo</td>\n",
       "      <td>SP</td>\n",
       "    </tr>\n",
       "  </tbody>\n",
       "</table>\n",
       "</div>"
      ],
      "text/plain": [
       "   geolocation_zip_code_prefix  geolocation_lat  geolocation_lng  \\\n",
       "0                         1037       -23.545621       -46.639292   \n",
       "1                         1046       -23.546081       -46.644820   \n",
       "2                         1046       -23.546129       -46.642951   \n",
       "3                         1041       -23.544392       -46.639499   \n",
       "4                         1035       -23.541578       -46.641607   \n",
       "\n",
       "  geolocation_city geolocation_state  \n",
       "0        sao paulo                SP  \n",
       "1        sao paulo                SP  \n",
       "2        sao paulo                SP  \n",
       "3        sao paulo                SP  \n",
       "4        sao paulo                SP  "
      ]
     },
     "metadata": {},
     "output_type": "display_data"
    },
    {
     "name": "stdout",
     "output_type": "stream",
     "text": [
      "Dataset: orders_dataset.csv\n"
     ]
    },
    {
     "data": {
      "text/html": [
       "<div>\n",
       "<style scoped>\n",
       "    .dataframe tbody tr th:only-of-type {\n",
       "        vertical-align: middle;\n",
       "    }\n",
       "\n",
       "    .dataframe tbody tr th {\n",
       "        vertical-align: top;\n",
       "    }\n",
       "\n",
       "    .dataframe thead th {\n",
       "        text-align: right;\n",
       "    }\n",
       "</style>\n",
       "<table border=\"1\" class=\"dataframe\">\n",
       "  <thead>\n",
       "    <tr style=\"text-align: right;\">\n",
       "      <th></th>\n",
       "      <th>order_id</th>\n",
       "      <th>customer_id</th>\n",
       "      <th>order_status</th>\n",
       "      <th>order_purchase_timestamp</th>\n",
       "      <th>order_approved_at</th>\n",
       "      <th>order_delivered_carrier_date</th>\n",
       "      <th>order_delivered_customer_date</th>\n",
       "      <th>order_estimated_delivery_date</th>\n",
       "    </tr>\n",
       "  </thead>\n",
       "  <tbody>\n",
       "    <tr>\n",
       "      <th>0</th>\n",
       "      <td>e481f51cbdc54678b7cc49136f2d6af7</td>\n",
       "      <td>9ef432eb6251297304e76186b10a928d</td>\n",
       "      <td>delivered</td>\n",
       "      <td>2017-10-02 10:56:33</td>\n",
       "      <td>2017-10-02 11:07:15</td>\n",
       "      <td>2017-10-04 19:55:00</td>\n",
       "      <td>2017-10-10 21:25:13</td>\n",
       "      <td>2017-10-18 00:00:00</td>\n",
       "    </tr>\n",
       "    <tr>\n",
       "      <th>1</th>\n",
       "      <td>53cdb2fc8bc7dce0b6741e2150273451</td>\n",
       "      <td>b0830fb4747a6c6d20dea0b8c802d7ef</td>\n",
       "      <td>delivered</td>\n",
       "      <td>2018-07-24 20:41:37</td>\n",
       "      <td>2018-07-26 03:24:27</td>\n",
       "      <td>2018-07-26 14:31:00</td>\n",
       "      <td>2018-08-07 15:27:45</td>\n",
       "      <td>2018-08-13 00:00:00</td>\n",
       "    </tr>\n",
       "    <tr>\n",
       "      <th>2</th>\n",
       "      <td>47770eb9100c2d0c44946d9cf07ec65d</td>\n",
       "      <td>41ce2a54c0b03bf3443c3d931a367089</td>\n",
       "      <td>delivered</td>\n",
       "      <td>2018-08-08 08:38:49</td>\n",
       "      <td>2018-08-08 08:55:23</td>\n",
       "      <td>2018-08-08 13:50:00</td>\n",
       "      <td>2018-08-17 18:06:29</td>\n",
       "      <td>2018-09-04 00:00:00</td>\n",
       "    </tr>\n",
       "    <tr>\n",
       "      <th>3</th>\n",
       "      <td>949d5b44dbf5de918fe9c16f97b45f8a</td>\n",
       "      <td>f88197465ea7920adcdbec7375364d82</td>\n",
       "      <td>delivered</td>\n",
       "      <td>2017-11-18 19:28:06</td>\n",
       "      <td>2017-11-18 19:45:59</td>\n",
       "      <td>2017-11-22 13:39:59</td>\n",
       "      <td>2017-12-02 00:28:42</td>\n",
       "      <td>2017-12-15 00:00:00</td>\n",
       "    </tr>\n",
       "    <tr>\n",
       "      <th>4</th>\n",
       "      <td>ad21c59c0840e6cb83a9ceb5573f8159</td>\n",
       "      <td>8ab97904e6daea8866dbdbc4fb7aad2c</td>\n",
       "      <td>delivered</td>\n",
       "      <td>2018-02-13 21:18:39</td>\n",
       "      <td>2018-02-13 22:20:29</td>\n",
       "      <td>2018-02-14 19:46:34</td>\n",
       "      <td>2018-02-16 18:17:02</td>\n",
       "      <td>2018-02-26 00:00:00</td>\n",
       "    </tr>\n",
       "  </tbody>\n",
       "</table>\n",
       "</div>"
      ],
      "text/plain": [
       "                           order_id                       customer_id  \\\n",
       "0  e481f51cbdc54678b7cc49136f2d6af7  9ef432eb6251297304e76186b10a928d   \n",
       "1  53cdb2fc8bc7dce0b6741e2150273451  b0830fb4747a6c6d20dea0b8c802d7ef   \n",
       "2  47770eb9100c2d0c44946d9cf07ec65d  41ce2a54c0b03bf3443c3d931a367089   \n",
       "3  949d5b44dbf5de918fe9c16f97b45f8a  f88197465ea7920adcdbec7375364d82   \n",
       "4  ad21c59c0840e6cb83a9ceb5573f8159  8ab97904e6daea8866dbdbc4fb7aad2c   \n",
       "\n",
       "  order_status order_purchase_timestamp    order_approved_at  \\\n",
       "0    delivered      2017-10-02 10:56:33  2017-10-02 11:07:15   \n",
       "1    delivered      2018-07-24 20:41:37  2018-07-26 03:24:27   \n",
       "2    delivered      2018-08-08 08:38:49  2018-08-08 08:55:23   \n",
       "3    delivered      2017-11-18 19:28:06  2017-11-18 19:45:59   \n",
       "4    delivered      2018-02-13 21:18:39  2018-02-13 22:20:29   \n",
       "\n",
       "  order_delivered_carrier_date order_delivered_customer_date  \\\n",
       "0          2017-10-04 19:55:00           2017-10-10 21:25:13   \n",
       "1          2018-07-26 14:31:00           2018-08-07 15:27:45   \n",
       "2          2018-08-08 13:50:00           2018-08-17 18:06:29   \n",
       "3          2017-11-22 13:39:59           2017-12-02 00:28:42   \n",
       "4          2018-02-14 19:46:34           2018-02-16 18:17:02   \n",
       "\n",
       "  order_estimated_delivery_date  \n",
       "0           2017-10-18 00:00:00  \n",
       "1           2018-08-13 00:00:00  \n",
       "2           2018-09-04 00:00:00  \n",
       "3           2017-12-15 00:00:00  \n",
       "4           2018-02-26 00:00:00  "
      ]
     },
     "metadata": {},
     "output_type": "display_data"
    },
    {
     "name": "stdout",
     "output_type": "stream",
     "text": [
      "Dataset: order_items_dataset.csv\n"
     ]
    },
    {
     "data": {
      "text/html": [
       "<div>\n",
       "<style scoped>\n",
       "    .dataframe tbody tr th:only-of-type {\n",
       "        vertical-align: middle;\n",
       "    }\n",
       "\n",
       "    .dataframe tbody tr th {\n",
       "        vertical-align: top;\n",
       "    }\n",
       "\n",
       "    .dataframe thead th {\n",
       "        text-align: right;\n",
       "    }\n",
       "</style>\n",
       "<table border=\"1\" class=\"dataframe\">\n",
       "  <thead>\n",
       "    <tr style=\"text-align: right;\">\n",
       "      <th></th>\n",
       "      <th>order_id</th>\n",
       "      <th>order_item_id</th>\n",
       "      <th>product_id</th>\n",
       "      <th>seller_id</th>\n",
       "      <th>shipping_limit_date</th>\n",
       "      <th>price</th>\n",
       "      <th>freight_value</th>\n",
       "    </tr>\n",
       "  </thead>\n",
       "  <tbody>\n",
       "    <tr>\n",
       "      <th>0</th>\n",
       "      <td>00010242fe8c5a6d1ba2dd792cb16214</td>\n",
       "      <td>1</td>\n",
       "      <td>4244733e06e7ecb4970a6e2683c13e61</td>\n",
       "      <td>48436dade18ac8b2bce089ec2a041202</td>\n",
       "      <td>2017-09-19 09:45:35</td>\n",
       "      <td>58.90</td>\n",
       "      <td>13.29</td>\n",
       "    </tr>\n",
       "    <tr>\n",
       "      <th>1</th>\n",
       "      <td>00018f77f2f0320c557190d7a144bdd3</td>\n",
       "      <td>1</td>\n",
       "      <td>e5f2d52b802189ee658865ca93d83a8f</td>\n",
       "      <td>dd7ddc04e1b6c2c614352b383efe2d36</td>\n",
       "      <td>2017-05-03 11:05:13</td>\n",
       "      <td>239.90</td>\n",
       "      <td>19.93</td>\n",
       "    </tr>\n",
       "    <tr>\n",
       "      <th>2</th>\n",
       "      <td>000229ec398224ef6ca0657da4fc703e</td>\n",
       "      <td>1</td>\n",
       "      <td>c777355d18b72b67abbeef9df44fd0fd</td>\n",
       "      <td>5b51032eddd242adc84c38acab88f23d</td>\n",
       "      <td>2018-01-18 14:48:30</td>\n",
       "      <td>199.00</td>\n",
       "      <td>17.87</td>\n",
       "    </tr>\n",
       "    <tr>\n",
       "      <th>3</th>\n",
       "      <td>00024acbcdf0a6daa1e931b038114c75</td>\n",
       "      <td>1</td>\n",
       "      <td>7634da152a4610f1595efa32f14722fc</td>\n",
       "      <td>9d7a1d34a5052409006425275ba1c2b4</td>\n",
       "      <td>2018-08-15 10:10:18</td>\n",
       "      <td>12.99</td>\n",
       "      <td>12.79</td>\n",
       "    </tr>\n",
       "    <tr>\n",
       "      <th>4</th>\n",
       "      <td>00042b26cf59d7ce69dfabb4e55b4fd9</td>\n",
       "      <td>1</td>\n",
       "      <td>ac6c3623068f30de03045865e4e10089</td>\n",
       "      <td>df560393f3a51e74553ab94004ba5c87</td>\n",
       "      <td>2017-02-13 13:57:51</td>\n",
       "      <td>199.90</td>\n",
       "      <td>18.14</td>\n",
       "    </tr>\n",
       "  </tbody>\n",
       "</table>\n",
       "</div>"
      ],
      "text/plain": [
       "                           order_id  order_item_id  \\\n",
       "0  00010242fe8c5a6d1ba2dd792cb16214              1   \n",
       "1  00018f77f2f0320c557190d7a144bdd3              1   \n",
       "2  000229ec398224ef6ca0657da4fc703e              1   \n",
       "3  00024acbcdf0a6daa1e931b038114c75              1   \n",
       "4  00042b26cf59d7ce69dfabb4e55b4fd9              1   \n",
       "\n",
       "                         product_id                         seller_id  \\\n",
       "0  4244733e06e7ecb4970a6e2683c13e61  48436dade18ac8b2bce089ec2a041202   \n",
       "1  e5f2d52b802189ee658865ca93d83a8f  dd7ddc04e1b6c2c614352b383efe2d36   \n",
       "2  c777355d18b72b67abbeef9df44fd0fd  5b51032eddd242adc84c38acab88f23d   \n",
       "3  7634da152a4610f1595efa32f14722fc  9d7a1d34a5052409006425275ba1c2b4   \n",
       "4  ac6c3623068f30de03045865e4e10089  df560393f3a51e74553ab94004ba5c87   \n",
       "\n",
       "   shipping_limit_date   price  freight_value  \n",
       "0  2017-09-19 09:45:35   58.90          13.29  \n",
       "1  2017-05-03 11:05:13  239.90          19.93  \n",
       "2  2018-01-18 14:48:30  199.00          17.87  \n",
       "3  2018-08-15 10:10:18   12.99          12.79  \n",
       "4  2017-02-13 13:57:51  199.90          18.14  "
      ]
     },
     "metadata": {},
     "output_type": "display_data"
    },
    {
     "name": "stdout",
     "output_type": "stream",
     "text": [
      "Dataset: order_payments_dataset.csv\n"
     ]
    },
    {
     "data": {
      "text/html": [
       "<div>\n",
       "<style scoped>\n",
       "    .dataframe tbody tr th:only-of-type {\n",
       "        vertical-align: middle;\n",
       "    }\n",
       "\n",
       "    .dataframe tbody tr th {\n",
       "        vertical-align: top;\n",
       "    }\n",
       "\n",
       "    .dataframe thead th {\n",
       "        text-align: right;\n",
       "    }\n",
       "</style>\n",
       "<table border=\"1\" class=\"dataframe\">\n",
       "  <thead>\n",
       "    <tr style=\"text-align: right;\">\n",
       "      <th></th>\n",
       "      <th>order_id</th>\n",
       "      <th>payment_sequential</th>\n",
       "      <th>payment_type</th>\n",
       "      <th>payment_installments</th>\n",
       "      <th>payment_value</th>\n",
       "    </tr>\n",
       "  </thead>\n",
       "  <tbody>\n",
       "    <tr>\n",
       "      <th>0</th>\n",
       "      <td>b81ef226f3fe1789b1e8b2acac839d17</td>\n",
       "      <td>1</td>\n",
       "      <td>credit_card</td>\n",
       "      <td>8</td>\n",
       "      <td>99.33</td>\n",
       "    </tr>\n",
       "    <tr>\n",
       "      <th>1</th>\n",
       "      <td>a9810da82917af2d9aefd1278f1dcfa0</td>\n",
       "      <td>1</td>\n",
       "      <td>credit_card</td>\n",
       "      <td>1</td>\n",
       "      <td>24.39</td>\n",
       "    </tr>\n",
       "    <tr>\n",
       "      <th>2</th>\n",
       "      <td>25e8ea4e93396b6fa0d3dd708e76c1bd</td>\n",
       "      <td>1</td>\n",
       "      <td>credit_card</td>\n",
       "      <td>1</td>\n",
       "      <td>65.71</td>\n",
       "    </tr>\n",
       "    <tr>\n",
       "      <th>3</th>\n",
       "      <td>ba78997921bbcdc1373bb41e913ab953</td>\n",
       "      <td>1</td>\n",
       "      <td>credit_card</td>\n",
       "      <td>8</td>\n",
       "      <td>107.78</td>\n",
       "    </tr>\n",
       "    <tr>\n",
       "      <th>4</th>\n",
       "      <td>42fdf880ba16b47b59251dd489d4441a</td>\n",
       "      <td>1</td>\n",
       "      <td>credit_card</td>\n",
       "      <td>2</td>\n",
       "      <td>128.45</td>\n",
       "    </tr>\n",
       "  </tbody>\n",
       "</table>\n",
       "</div>"
      ],
      "text/plain": [
       "                           order_id  payment_sequential payment_type  \\\n",
       "0  b81ef226f3fe1789b1e8b2acac839d17                   1  credit_card   \n",
       "1  a9810da82917af2d9aefd1278f1dcfa0                   1  credit_card   \n",
       "2  25e8ea4e93396b6fa0d3dd708e76c1bd                   1  credit_card   \n",
       "3  ba78997921bbcdc1373bb41e913ab953                   1  credit_card   \n",
       "4  42fdf880ba16b47b59251dd489d4441a                   1  credit_card   \n",
       "\n",
       "   payment_installments  payment_value  \n",
       "0                     8          99.33  \n",
       "1                     1          24.39  \n",
       "2                     1          65.71  \n",
       "3                     8         107.78  \n",
       "4                     2         128.45  "
      ]
     },
     "metadata": {},
     "output_type": "display_data"
    },
    {
     "name": "stdout",
     "output_type": "stream",
     "text": [
      "Dataset: order_reviews_dataset.csv\n"
     ]
    },
    {
     "data": {
      "text/html": [
       "<div>\n",
       "<style scoped>\n",
       "    .dataframe tbody tr th:only-of-type {\n",
       "        vertical-align: middle;\n",
       "    }\n",
       "\n",
       "    .dataframe tbody tr th {\n",
       "        vertical-align: top;\n",
       "    }\n",
       "\n",
       "    .dataframe thead th {\n",
       "        text-align: right;\n",
       "    }\n",
       "</style>\n",
       "<table border=\"1\" class=\"dataframe\">\n",
       "  <thead>\n",
       "    <tr style=\"text-align: right;\">\n",
       "      <th></th>\n",
       "      <th>review_id</th>\n",
       "      <th>order_id</th>\n",
       "      <th>review_score</th>\n",
       "      <th>review_comment_title</th>\n",
       "      <th>review_comment_message</th>\n",
       "      <th>review_creation_date</th>\n",
       "      <th>review_answer_timestamp</th>\n",
       "    </tr>\n",
       "  </thead>\n",
       "  <tbody>\n",
       "    <tr>\n",
       "      <th>0</th>\n",
       "      <td>7bc2406110b926393aa56f80a40eba40</td>\n",
       "      <td>73fc7af87114b39712e6da79b0a377eb</td>\n",
       "      <td>4</td>\n",
       "      <td>NaN</td>\n",
       "      <td>NaN</td>\n",
       "      <td>2018-01-18 00:00:00</td>\n",
       "      <td>2018-01-18 21:46:59</td>\n",
       "    </tr>\n",
       "    <tr>\n",
       "      <th>1</th>\n",
       "      <td>80e641a11e56f04c1ad469d5645fdfde</td>\n",
       "      <td>a548910a1c6147796b98fdf73dbeba33</td>\n",
       "      <td>5</td>\n",
       "      <td>NaN</td>\n",
       "      <td>NaN</td>\n",
       "      <td>2018-03-10 00:00:00</td>\n",
       "      <td>2018-03-11 03:05:13</td>\n",
       "    </tr>\n",
       "    <tr>\n",
       "      <th>2</th>\n",
       "      <td>228ce5500dc1d8e020d8d1322874b6f0</td>\n",
       "      <td>f9e4b658b201a9f2ecdecbb34bed034b</td>\n",
       "      <td>5</td>\n",
       "      <td>NaN</td>\n",
       "      <td>NaN</td>\n",
       "      <td>2018-02-17 00:00:00</td>\n",
       "      <td>2018-02-18 14:36:24</td>\n",
       "    </tr>\n",
       "    <tr>\n",
       "      <th>3</th>\n",
       "      <td>e64fb393e7b32834bb789ff8bb30750e</td>\n",
       "      <td>658677c97b385a9be170737859d3511b</td>\n",
       "      <td>5</td>\n",
       "      <td>NaN</td>\n",
       "      <td>Recebi bem antes do prazo estipulado.</td>\n",
       "      <td>2017-04-21 00:00:00</td>\n",
       "      <td>2017-04-21 22:02:06</td>\n",
       "    </tr>\n",
       "    <tr>\n",
       "      <th>4</th>\n",
       "      <td>f7c4243c7fe1938f181bec41a392bdeb</td>\n",
       "      <td>8e6bfb81e283fa7e4f11123a3fb894f1</td>\n",
       "      <td>5</td>\n",
       "      <td>NaN</td>\n",
       "      <td>Parabéns lojas lannister adorei comprar pela I...</td>\n",
       "      <td>2018-03-01 00:00:00</td>\n",
       "      <td>2018-03-02 10:26:53</td>\n",
       "    </tr>\n",
       "  </tbody>\n",
       "</table>\n",
       "</div>"
      ],
      "text/plain": [
       "                          review_id                          order_id  \\\n",
       "0  7bc2406110b926393aa56f80a40eba40  73fc7af87114b39712e6da79b0a377eb   \n",
       "1  80e641a11e56f04c1ad469d5645fdfde  a548910a1c6147796b98fdf73dbeba33   \n",
       "2  228ce5500dc1d8e020d8d1322874b6f0  f9e4b658b201a9f2ecdecbb34bed034b   \n",
       "3  e64fb393e7b32834bb789ff8bb30750e  658677c97b385a9be170737859d3511b   \n",
       "4  f7c4243c7fe1938f181bec41a392bdeb  8e6bfb81e283fa7e4f11123a3fb894f1   \n",
       "\n",
       "   review_score review_comment_title  \\\n",
       "0             4                  NaN   \n",
       "1             5                  NaN   \n",
       "2             5                  NaN   \n",
       "3             5                  NaN   \n",
       "4             5                  NaN   \n",
       "\n",
       "                              review_comment_message review_creation_date  \\\n",
       "0                                                NaN  2018-01-18 00:00:00   \n",
       "1                                                NaN  2018-03-10 00:00:00   \n",
       "2                                                NaN  2018-02-17 00:00:00   \n",
       "3              Recebi bem antes do prazo estipulado.  2017-04-21 00:00:00   \n",
       "4  Parabéns lojas lannister adorei comprar pela I...  2018-03-01 00:00:00   \n",
       "\n",
       "  review_answer_timestamp  \n",
       "0     2018-01-18 21:46:59  \n",
       "1     2018-03-11 03:05:13  \n",
       "2     2018-02-18 14:36:24  \n",
       "3     2017-04-21 22:02:06  \n",
       "4     2018-03-02 10:26:53  "
      ]
     },
     "metadata": {},
     "output_type": "display_data"
    },
    {
     "name": "stdout",
     "output_type": "stream",
     "text": [
      "Dataset: products_dataset.csv\n"
     ]
    },
    {
     "data": {
      "text/html": [
       "<div>\n",
       "<style scoped>\n",
       "    .dataframe tbody tr th:only-of-type {\n",
       "        vertical-align: middle;\n",
       "    }\n",
       "\n",
       "    .dataframe tbody tr th {\n",
       "        vertical-align: top;\n",
       "    }\n",
       "\n",
       "    .dataframe thead th {\n",
       "        text-align: right;\n",
       "    }\n",
       "</style>\n",
       "<table border=\"1\" class=\"dataframe\">\n",
       "  <thead>\n",
       "    <tr style=\"text-align: right;\">\n",
       "      <th></th>\n",
       "      <th>product_id</th>\n",
       "      <th>product_category_name</th>\n",
       "      <th>product_name_lenght</th>\n",
       "      <th>product_description_lenght</th>\n",
       "      <th>product_photos_qty</th>\n",
       "      <th>product_weight_g</th>\n",
       "      <th>product_length_cm</th>\n",
       "      <th>product_height_cm</th>\n",
       "      <th>product_width_cm</th>\n",
       "    </tr>\n",
       "  </thead>\n",
       "  <tbody>\n",
       "    <tr>\n",
       "      <th>0</th>\n",
       "      <td>1e9e8ef04dbcff4541ed26657ea517e5</td>\n",
       "      <td>perfumaria</td>\n",
       "      <td>40.0</td>\n",
       "      <td>287.0</td>\n",
       "      <td>1.0</td>\n",
       "      <td>225.0</td>\n",
       "      <td>16.0</td>\n",
       "      <td>10.0</td>\n",
       "      <td>14.0</td>\n",
       "    </tr>\n",
       "    <tr>\n",
       "      <th>1</th>\n",
       "      <td>3aa071139cb16b67ca9e5dea641aaa2f</td>\n",
       "      <td>artes</td>\n",
       "      <td>44.0</td>\n",
       "      <td>276.0</td>\n",
       "      <td>1.0</td>\n",
       "      <td>1000.0</td>\n",
       "      <td>30.0</td>\n",
       "      <td>18.0</td>\n",
       "      <td>20.0</td>\n",
       "    </tr>\n",
       "    <tr>\n",
       "      <th>2</th>\n",
       "      <td>96bd76ec8810374ed1b65e291975717f</td>\n",
       "      <td>esporte_lazer</td>\n",
       "      <td>46.0</td>\n",
       "      <td>250.0</td>\n",
       "      <td>1.0</td>\n",
       "      <td>154.0</td>\n",
       "      <td>18.0</td>\n",
       "      <td>9.0</td>\n",
       "      <td>15.0</td>\n",
       "    </tr>\n",
       "    <tr>\n",
       "      <th>3</th>\n",
       "      <td>cef67bcfe19066a932b7673e239eb23d</td>\n",
       "      <td>bebes</td>\n",
       "      <td>27.0</td>\n",
       "      <td>261.0</td>\n",
       "      <td>1.0</td>\n",
       "      <td>371.0</td>\n",
       "      <td>26.0</td>\n",
       "      <td>4.0</td>\n",
       "      <td>26.0</td>\n",
       "    </tr>\n",
       "    <tr>\n",
       "      <th>4</th>\n",
       "      <td>9dc1a7de274444849c219cff195d0b71</td>\n",
       "      <td>utilidades_domesticas</td>\n",
       "      <td>37.0</td>\n",
       "      <td>402.0</td>\n",
       "      <td>4.0</td>\n",
       "      <td>625.0</td>\n",
       "      <td>20.0</td>\n",
       "      <td>17.0</td>\n",
       "      <td>13.0</td>\n",
       "    </tr>\n",
       "  </tbody>\n",
       "</table>\n",
       "</div>"
      ],
      "text/plain": [
       "                         product_id  product_category_name  \\\n",
       "0  1e9e8ef04dbcff4541ed26657ea517e5             perfumaria   \n",
       "1  3aa071139cb16b67ca9e5dea641aaa2f                  artes   \n",
       "2  96bd76ec8810374ed1b65e291975717f          esporte_lazer   \n",
       "3  cef67bcfe19066a932b7673e239eb23d                  bebes   \n",
       "4  9dc1a7de274444849c219cff195d0b71  utilidades_domesticas   \n",
       "\n",
       "   product_name_lenght  product_description_lenght  product_photos_qty  \\\n",
       "0                 40.0                       287.0                 1.0   \n",
       "1                 44.0                       276.0                 1.0   \n",
       "2                 46.0                       250.0                 1.0   \n",
       "3                 27.0                       261.0                 1.0   \n",
       "4                 37.0                       402.0                 4.0   \n",
       "\n",
       "   product_weight_g  product_length_cm  product_height_cm  product_width_cm  \n",
       "0             225.0               16.0               10.0              14.0  \n",
       "1            1000.0               30.0               18.0              20.0  \n",
       "2             154.0               18.0                9.0              15.0  \n",
       "3             371.0               26.0                4.0              26.0  \n",
       "4             625.0               20.0               17.0              13.0  "
      ]
     },
     "metadata": {},
     "output_type": "display_data"
    },
    {
     "name": "stdout",
     "output_type": "stream",
     "text": [
      "Dataset: product_category_name_translation.csv\n"
     ]
    },
    {
     "data": {
      "text/html": [
       "<div>\n",
       "<style scoped>\n",
       "    .dataframe tbody tr th:only-of-type {\n",
       "        vertical-align: middle;\n",
       "    }\n",
       "\n",
       "    .dataframe tbody tr th {\n",
       "        vertical-align: top;\n",
       "    }\n",
       "\n",
       "    .dataframe thead th {\n",
       "        text-align: right;\n",
       "    }\n",
       "</style>\n",
       "<table border=\"1\" class=\"dataframe\">\n",
       "  <thead>\n",
       "    <tr style=\"text-align: right;\">\n",
       "      <th></th>\n",
       "      <th>product_category_name</th>\n",
       "      <th>product_category_name_english</th>\n",
       "    </tr>\n",
       "  </thead>\n",
       "  <tbody>\n",
       "    <tr>\n",
       "      <th>0</th>\n",
       "      <td>beleza_saude</td>\n",
       "      <td>health_beauty</td>\n",
       "    </tr>\n",
       "    <tr>\n",
       "      <th>1</th>\n",
       "      <td>informatica_acessorios</td>\n",
       "      <td>computers_accessories</td>\n",
       "    </tr>\n",
       "    <tr>\n",
       "      <th>2</th>\n",
       "      <td>automotivo</td>\n",
       "      <td>auto</td>\n",
       "    </tr>\n",
       "    <tr>\n",
       "      <th>3</th>\n",
       "      <td>cama_mesa_banho</td>\n",
       "      <td>bed_bath_table</td>\n",
       "    </tr>\n",
       "    <tr>\n",
       "      <th>4</th>\n",
       "      <td>moveis_decoracao</td>\n",
       "      <td>furniture_decor</td>\n",
       "    </tr>\n",
       "  </tbody>\n",
       "</table>\n",
       "</div>"
      ],
      "text/plain": [
       "    product_category_name product_category_name_english\n",
       "0            beleza_saude                 health_beauty\n",
       "1  informatica_acessorios         computers_accessories\n",
       "2              automotivo                          auto\n",
       "3         cama_mesa_banho                bed_bath_table\n",
       "4        moveis_decoracao               furniture_decor"
      ]
     },
     "metadata": {},
     "output_type": "display_data"
    },
    {
     "name": "stdout",
     "output_type": "stream",
     "text": [
      "Dataset: sellers_dataset.csv\n"
     ]
    },
    {
     "data": {
      "text/html": [
       "<div>\n",
       "<style scoped>\n",
       "    .dataframe tbody tr th:only-of-type {\n",
       "        vertical-align: middle;\n",
       "    }\n",
       "\n",
       "    .dataframe tbody tr th {\n",
       "        vertical-align: top;\n",
       "    }\n",
       "\n",
       "    .dataframe thead th {\n",
       "        text-align: right;\n",
       "    }\n",
       "</style>\n",
       "<table border=\"1\" class=\"dataframe\">\n",
       "  <thead>\n",
       "    <tr style=\"text-align: right;\">\n",
       "      <th></th>\n",
       "      <th>seller_id</th>\n",
       "      <th>seller_zip_code_prefix</th>\n",
       "      <th>seller_city</th>\n",
       "      <th>seller_state</th>\n",
       "    </tr>\n",
       "  </thead>\n",
       "  <tbody>\n",
       "    <tr>\n",
       "      <th>0</th>\n",
       "      <td>3442f8959a84dea7ee197c632cb2df15</td>\n",
       "      <td>13023</td>\n",
       "      <td>campinas</td>\n",
       "      <td>SP</td>\n",
       "    </tr>\n",
       "    <tr>\n",
       "      <th>1</th>\n",
       "      <td>d1b65fc7debc3361ea86b5f14c68d2e2</td>\n",
       "      <td>13844</td>\n",
       "      <td>mogi guacu</td>\n",
       "      <td>SP</td>\n",
       "    </tr>\n",
       "    <tr>\n",
       "      <th>2</th>\n",
       "      <td>ce3ad9de960102d0677a81f5d0bb7b2d</td>\n",
       "      <td>20031</td>\n",
       "      <td>rio de janeiro</td>\n",
       "      <td>RJ</td>\n",
       "    </tr>\n",
       "    <tr>\n",
       "      <th>3</th>\n",
       "      <td>c0f3eea2e14555b6faeea3dd58c1b1c3</td>\n",
       "      <td>4195</td>\n",
       "      <td>sao paulo</td>\n",
       "      <td>SP</td>\n",
       "    </tr>\n",
       "    <tr>\n",
       "      <th>4</th>\n",
       "      <td>51a04a8a6bdcb23deccc82b0b80742cf</td>\n",
       "      <td>12914</td>\n",
       "      <td>braganca paulista</td>\n",
       "      <td>SP</td>\n",
       "    </tr>\n",
       "  </tbody>\n",
       "</table>\n",
       "</div>"
      ],
      "text/plain": [
       "                          seller_id  seller_zip_code_prefix  \\\n",
       "0  3442f8959a84dea7ee197c632cb2df15                   13023   \n",
       "1  d1b65fc7debc3361ea86b5f14c68d2e2                   13844   \n",
       "2  ce3ad9de960102d0677a81f5d0bb7b2d                   20031   \n",
       "3  c0f3eea2e14555b6faeea3dd58c1b1c3                    4195   \n",
       "4  51a04a8a6bdcb23deccc82b0b80742cf                   12914   \n",
       "\n",
       "         seller_city seller_state  \n",
       "0           campinas           SP  \n",
       "1         mogi guacu           SP  \n",
       "2     rio de janeiro           RJ  \n",
       "3          sao paulo           SP  \n",
       "4  braganca paulista           SP  "
      ]
     },
     "metadata": {},
     "output_type": "display_data"
    }
   ],
   "source": [
    "import os\n",
    "import pandas as pd\n",
    "from IPython.display import display\n",
    "dataSetPath = \"./RawData/\"\n",
    "df_dict : dict[str,pd.DataFrame]= {}\n",
    "\n",
    "for dataset in os.listdir(dataSetPath):\n",
    "    print(f\"Dataset: {dataset}\")\n",
    "    df = pd.read_csv(dataSetPath + dataset)\n",
    "\n",
    "    df_dict[dataset.removesuffix(\".csv\")] = df\n",
    "    display(df.head())"
   ]
  },
  {
   "cell_type": "code",
   "execution_count": 20,
   "metadata": {},
   "outputs": [],
   "source": [
    "customers_df = df_dict[\"customers_dataset\"]\n",
    "geolocation_df = df_dict[\"geolocation_dataset\"]\n",
    "order_items_df = df_dict[\"order_items_dataset\"]\n",
    "order_payments_df = df_dict[\"order_payments_dataset\"]\n",
    "order_reviews_df = df_dict[\"order_reviews_dataset\"]\n",
    "orders_df = df_dict[\"orders_dataset\"]\n",
    "product_category_name_translation_df = df_dict[\"product_category_name_translation\"]\n",
    "products_df = df_dict[\"products_dataset\"]\n",
    "sellers_df = df_dict[\"sellers_dataset\"]"
   ]
  },
  {
   "cell_type": "code",
   "execution_count": 21,
   "metadata": {},
   "outputs": [
    {
     "name": "stdout",
     "output_type": "stream",
     "text": [
      "Dataset: customers_dataset\n",
      "<class 'pandas.core.frame.DataFrame'>\n",
      "RangeIndex: 99441 entries, 0 to 99440\n",
      "Data columns (total 5 columns):\n",
      " #   Column                    Non-Null Count  Dtype \n",
      "---  ------                    --------------  ----- \n",
      " 0   customer_id               99441 non-null  object\n",
      " 1   customer_unique_id        99441 non-null  object\n",
      " 2   customer_zip_code_prefix  99441 non-null  int64 \n",
      " 3   customer_city             99441 non-null  object\n",
      " 4   customer_state            99441 non-null  object\n",
      "dtypes: int64(1), object(4)\n",
      "memory usage: 3.8+ MB\n"
     ]
    },
    {
     "data": {
      "text/plain": [
       "None"
      ]
     },
     "metadata": {},
     "output_type": "display_data"
    },
    {
     "data": {
      "text/plain": [
       "customer_id                 0\n",
       "customer_unique_id          0\n",
       "customer_zip_code_prefix    0\n",
       "customer_city               0\n",
       "customer_state              0\n",
       "dtype: int64"
      ]
     },
     "metadata": {},
     "output_type": "display_data"
    },
    {
     "name": "stdout",
     "output_type": "stream",
     "text": [
      "Duplicates: customers_dataset\n"
     ]
    },
    {
     "data": {
      "text/plain": [
       "0"
      ]
     },
     "metadata": {},
     "output_type": "display_data"
    },
    {
     "name": "stdout",
     "output_type": "stream",
     "text": [
      "Dataset: geolocation_dataset\n",
      "<class 'pandas.core.frame.DataFrame'>\n",
      "RangeIndex: 1000163 entries, 0 to 1000162\n",
      "Data columns (total 5 columns):\n",
      " #   Column                       Non-Null Count    Dtype  \n",
      "---  ------                       --------------    -----  \n",
      " 0   geolocation_zip_code_prefix  1000163 non-null  int64  \n",
      " 1   geolocation_lat              1000163 non-null  float64\n",
      " 2   geolocation_lng              1000163 non-null  float64\n",
      " 3   geolocation_city             1000163 non-null  object \n",
      " 4   geolocation_state            1000163 non-null  object \n",
      "dtypes: float64(2), int64(1), object(2)\n",
      "memory usage: 38.2+ MB\n"
     ]
    },
    {
     "data": {
      "text/plain": [
       "None"
      ]
     },
     "metadata": {},
     "output_type": "display_data"
    },
    {
     "data": {
      "text/plain": [
       "geolocation_zip_code_prefix    0\n",
       "geolocation_lat                0\n",
       "geolocation_lng                0\n",
       "geolocation_city               0\n",
       "geolocation_state              0\n",
       "dtype: int64"
      ]
     },
     "metadata": {},
     "output_type": "display_data"
    },
    {
     "name": "stdout",
     "output_type": "stream",
     "text": [
      "Duplicates: geolocation_dataset\n"
     ]
    },
    {
     "data": {
      "text/plain": [
       "261831"
      ]
     },
     "metadata": {},
     "output_type": "display_data"
    },
    {
     "name": "stdout",
     "output_type": "stream",
     "text": [
      "Dataset: orders_dataset\n",
      "<class 'pandas.core.frame.DataFrame'>\n",
      "RangeIndex: 99441 entries, 0 to 99440\n",
      "Data columns (total 8 columns):\n",
      " #   Column                         Non-Null Count  Dtype \n",
      "---  ------                         --------------  ----- \n",
      " 0   order_id                       99441 non-null  object\n",
      " 1   customer_id                    99441 non-null  object\n",
      " 2   order_status                   99441 non-null  object\n",
      " 3   order_purchase_timestamp       99441 non-null  object\n",
      " 4   order_approved_at              99281 non-null  object\n",
      " 5   order_delivered_carrier_date   97658 non-null  object\n",
      " 6   order_delivered_customer_date  96476 non-null  object\n",
      " 7   order_estimated_delivery_date  99441 non-null  object\n",
      "dtypes: object(8)\n",
      "memory usage: 6.1+ MB\n"
     ]
    },
    {
     "data": {
      "text/plain": [
       "None"
      ]
     },
     "metadata": {},
     "output_type": "display_data"
    },
    {
     "data": {
      "text/plain": [
       "order_id                            0\n",
       "customer_id                         0\n",
       "order_status                        0\n",
       "order_purchase_timestamp            0\n",
       "order_approved_at                 160\n",
       "order_delivered_carrier_date     1783\n",
       "order_delivered_customer_date    2965\n",
       "order_estimated_delivery_date       0\n",
       "dtype: int64"
      ]
     },
     "metadata": {},
     "output_type": "display_data"
    },
    {
     "name": "stdout",
     "output_type": "stream",
     "text": [
      "Duplicates: orders_dataset\n"
     ]
    },
    {
     "data": {
      "text/plain": [
       "0"
      ]
     },
     "metadata": {},
     "output_type": "display_data"
    },
    {
     "name": "stdout",
     "output_type": "stream",
     "text": [
      "Dataset: order_items_dataset\n",
      "<class 'pandas.core.frame.DataFrame'>\n",
      "RangeIndex: 112650 entries, 0 to 112649\n",
      "Data columns (total 7 columns):\n",
      " #   Column               Non-Null Count   Dtype  \n",
      "---  ------               --------------   -----  \n",
      " 0   order_id             112650 non-null  object \n",
      " 1   order_item_id        112650 non-null  int64  \n",
      " 2   product_id           112650 non-null  object \n",
      " 3   seller_id            112650 non-null  object \n",
      " 4   shipping_limit_date  112650 non-null  object \n",
      " 5   price                112650 non-null  float64\n",
      " 6   freight_value        112650 non-null  float64\n",
      "dtypes: float64(2), int64(1), object(4)\n",
      "memory usage: 6.0+ MB\n"
     ]
    },
    {
     "data": {
      "text/plain": [
       "None"
      ]
     },
     "metadata": {},
     "output_type": "display_data"
    },
    {
     "data": {
      "text/plain": [
       "order_id               0\n",
       "order_item_id          0\n",
       "product_id             0\n",
       "seller_id              0\n",
       "shipping_limit_date    0\n",
       "price                  0\n",
       "freight_value          0\n",
       "dtype: int64"
      ]
     },
     "metadata": {},
     "output_type": "display_data"
    },
    {
     "name": "stdout",
     "output_type": "stream",
     "text": [
      "Duplicates: order_items_dataset\n"
     ]
    },
    {
     "data": {
      "text/plain": [
       "0"
      ]
     },
     "metadata": {},
     "output_type": "display_data"
    },
    {
     "name": "stdout",
     "output_type": "stream",
     "text": [
      "Dataset: order_payments_dataset\n",
      "<class 'pandas.core.frame.DataFrame'>\n",
      "RangeIndex: 103886 entries, 0 to 103885\n",
      "Data columns (total 5 columns):\n",
      " #   Column                Non-Null Count   Dtype  \n",
      "---  ------                --------------   -----  \n",
      " 0   order_id              103886 non-null  object \n",
      " 1   payment_sequential    103886 non-null  int64  \n",
      " 2   payment_type          103886 non-null  object \n",
      " 3   payment_installments  103886 non-null  int64  \n",
      " 4   payment_value         103886 non-null  float64\n",
      "dtypes: float64(1), int64(2), object(2)\n",
      "memory usage: 4.0+ MB\n"
     ]
    },
    {
     "data": {
      "text/plain": [
       "None"
      ]
     },
     "metadata": {},
     "output_type": "display_data"
    },
    {
     "data": {
      "text/plain": [
       "order_id                0\n",
       "payment_sequential      0\n",
       "payment_type            0\n",
       "payment_installments    0\n",
       "payment_value           0\n",
       "dtype: int64"
      ]
     },
     "metadata": {},
     "output_type": "display_data"
    },
    {
     "name": "stdout",
     "output_type": "stream",
     "text": [
      "Duplicates: order_payments_dataset\n"
     ]
    },
    {
     "data": {
      "text/plain": [
       "0"
      ]
     },
     "metadata": {},
     "output_type": "display_data"
    },
    {
     "name": "stdout",
     "output_type": "stream",
     "text": [
      "Dataset: order_reviews_dataset\n",
      "<class 'pandas.core.frame.DataFrame'>\n",
      "RangeIndex: 100000 entries, 0 to 99999\n",
      "Data columns (total 7 columns):\n",
      " #   Column                   Non-Null Count   Dtype \n",
      "---  ------                   --------------   ----- \n",
      " 0   review_id                100000 non-null  object\n",
      " 1   order_id                 100000 non-null  object\n",
      " 2   review_score             100000 non-null  int64 \n",
      " 3   review_comment_title     11715 non-null   object\n",
      " 4   review_comment_message   41753 non-null   object\n",
      " 5   review_creation_date     100000 non-null  object\n",
      " 6   review_answer_timestamp  100000 non-null  object\n",
      "dtypes: int64(1), object(6)\n",
      "memory usage: 5.3+ MB\n"
     ]
    },
    {
     "data": {
      "text/plain": [
       "None"
      ]
     },
     "metadata": {},
     "output_type": "display_data"
    },
    {
     "data": {
      "text/plain": [
       "review_id                      0\n",
       "order_id                       0\n",
       "review_score                   0\n",
       "review_comment_title       88285\n",
       "review_comment_message     58247\n",
       "review_creation_date           0\n",
       "review_answer_timestamp        0\n",
       "dtype: int64"
      ]
     },
     "metadata": {},
     "output_type": "display_data"
    },
    {
     "name": "stdout",
     "output_type": "stream",
     "text": [
      "Duplicates: order_reviews_dataset\n"
     ]
    },
    {
     "data": {
      "text/plain": [
       "0"
      ]
     },
     "metadata": {},
     "output_type": "display_data"
    },
    {
     "name": "stdout",
     "output_type": "stream",
     "text": [
      "Dataset: products_dataset\n",
      "<class 'pandas.core.frame.DataFrame'>\n",
      "RangeIndex: 32951 entries, 0 to 32950\n",
      "Data columns (total 9 columns):\n",
      " #   Column                      Non-Null Count  Dtype  \n",
      "---  ------                      --------------  -----  \n",
      " 0   product_id                  32951 non-null  object \n",
      " 1   product_category_name       32341 non-null  object \n",
      " 2   product_name_lenght         32341 non-null  float64\n",
      " 3   product_description_lenght  32341 non-null  float64\n",
      " 4   product_photos_qty          32341 non-null  float64\n",
      " 5   product_weight_g            32949 non-null  float64\n",
      " 6   product_length_cm           32949 non-null  float64\n",
      " 7   product_height_cm           32949 non-null  float64\n",
      " 8   product_width_cm            32949 non-null  float64\n",
      "dtypes: float64(7), object(2)\n",
      "memory usage: 2.3+ MB\n"
     ]
    },
    {
     "data": {
      "text/plain": [
       "None"
      ]
     },
     "metadata": {},
     "output_type": "display_data"
    },
    {
     "data": {
      "text/plain": [
       "product_id                      0\n",
       "product_category_name         610\n",
       "product_name_lenght           610\n",
       "product_description_lenght    610\n",
       "product_photos_qty            610\n",
       "product_weight_g                2\n",
       "product_length_cm               2\n",
       "product_height_cm               2\n",
       "product_width_cm                2\n",
       "dtype: int64"
      ]
     },
     "metadata": {},
     "output_type": "display_data"
    },
    {
     "name": "stdout",
     "output_type": "stream",
     "text": [
      "Duplicates: products_dataset\n"
     ]
    },
    {
     "data": {
      "text/plain": [
       "0"
      ]
     },
     "metadata": {},
     "output_type": "display_data"
    },
    {
     "name": "stdout",
     "output_type": "stream",
     "text": [
      "Dataset: product_category_name_translation\n",
      "<class 'pandas.core.frame.DataFrame'>\n",
      "RangeIndex: 71 entries, 0 to 70\n",
      "Data columns (total 2 columns):\n",
      " #   Column                         Non-Null Count  Dtype \n",
      "---  ------                         --------------  ----- \n",
      " 0   product_category_name          71 non-null     object\n",
      " 1   product_category_name_english  71 non-null     object\n",
      "dtypes: object(2)\n",
      "memory usage: 1.2+ KB\n"
     ]
    },
    {
     "data": {
      "text/plain": [
       "None"
      ]
     },
     "metadata": {},
     "output_type": "display_data"
    },
    {
     "data": {
      "text/plain": [
       "product_category_name            0\n",
       "product_category_name_english    0\n",
       "dtype: int64"
      ]
     },
     "metadata": {},
     "output_type": "display_data"
    },
    {
     "name": "stdout",
     "output_type": "stream",
     "text": [
      "Duplicates: product_category_name_translation\n"
     ]
    },
    {
     "data": {
      "text/plain": [
       "0"
      ]
     },
     "metadata": {},
     "output_type": "display_data"
    },
    {
     "name": "stdout",
     "output_type": "stream",
     "text": [
      "Dataset: sellers_dataset\n",
      "<class 'pandas.core.frame.DataFrame'>\n",
      "RangeIndex: 3095 entries, 0 to 3094\n",
      "Data columns (total 4 columns):\n",
      " #   Column                  Non-Null Count  Dtype \n",
      "---  ------                  --------------  ----- \n",
      " 0   seller_id               3095 non-null   object\n",
      " 1   seller_zip_code_prefix  3095 non-null   int64 \n",
      " 2   seller_city             3095 non-null   object\n",
      " 3   seller_state            3095 non-null   object\n",
      "dtypes: int64(1), object(3)\n",
      "memory usage: 96.8+ KB\n"
     ]
    },
    {
     "data": {
      "text/plain": [
       "None"
      ]
     },
     "metadata": {},
     "output_type": "display_data"
    },
    {
     "data": {
      "text/plain": [
       "seller_id                 0\n",
       "seller_zip_code_prefix    0\n",
       "seller_city               0\n",
       "seller_state              0\n",
       "dtype: int64"
      ]
     },
     "metadata": {},
     "output_type": "display_data"
    },
    {
     "name": "stdout",
     "output_type": "stream",
     "text": [
      "Duplicates: sellers_dataset\n"
     ]
    },
    {
     "data": {
      "text/plain": [
       "0"
      ]
     },
     "metadata": {},
     "output_type": "display_data"
    }
   ],
   "source": [
    "\n",
    "for dataset in df_dict:\n",
    "    print(f\"Dataset: {dataset}\")\n",
    "    display(df_dict[dataset].info())\n",
    "    display(df_dict[dataset].isna().sum())\n",
    "    print(f\"Duplicates: {dataset}\")\n",
    "    display(df_dict[dataset].duplicated().sum())"
   ]
  },
  {
   "cell_type": "code",
   "execution_count": 22,
   "metadata": {},
   "outputs": [
    {
     "data": {
      "text/plain": [
       "0"
      ]
     },
     "execution_count": 22,
     "metadata": {},
     "output_type": "execute_result"
    }
   ],
   "source": [
    "# geolocation_df duplicates removing\n",
    "\n",
    "geolocation_df.drop_duplicates(subset=[\"geolocation_zip_code_prefix\"], keep=\"first\", inplace=True)\n",
    "geolocation_df.duplicated(subset=[\"geolocation_zip_code_prefix\"]).sum()"
   ]
  },
  {
   "cell_type": "code",
   "execution_count": 23,
   "metadata": {},
   "outputs": [
    {
     "name": "stdout",
     "output_type": "stream",
     "text": [
      "order_id                            0\n",
      "customer_id                         0\n",
      "order_status                        0\n",
      "order_purchase_timestamp            0\n",
      "order_approved_at                 160\n",
      "order_delivered_carrier_date     1783\n",
      "order_delivered_customer_date    2965\n",
      "order_estimated_delivery_date       0\n",
      "dtype: int64\n",
      "order_id                         0\n",
      "customer_id                      0\n",
      "order_status                     0\n",
      "order_purchase_timestamp         0\n",
      "order_approved_at                0\n",
      "order_delivered_carrier_date     0\n",
      "order_delivered_customer_date    0\n",
      "order_estimated_delivery_date    0\n",
      "dtype: int64\n"
     ]
    }
   ],
   "source": [
    "#Missing Value\n",
    "print(orders_df.isna().sum())\n",
    "orders_df.ffill(inplace=True)\n",
    "print(orders_df.isna().sum())\n"
   ]
  },
  {
   "cell_type": "code",
   "execution_count": 24,
   "metadata": {},
   "outputs": [
    {
     "name": "stdout",
     "output_type": "stream",
     "text": [
      "review_id                   0.000\n",
      "order_id                    0.000\n",
      "review_score                0.000\n",
      "review_comment_title       88.285\n",
      "review_comment_message     58.247\n",
      "review_creation_date        0.000\n",
      "review_answer_timestamp     0.000\n",
      "dtype: float64\n"
     ]
    },
    {
     "data": {
      "text/plain": [
       "review_id                  0\n",
       "order_id                   0\n",
       "review_score               0\n",
       "review_creation_date       0\n",
       "review_answer_timestamp    0\n",
       "dtype: int64"
      ]
     },
     "execution_count": 24,
     "metadata": {},
     "output_type": "execute_result"
    }
   ],
   "source": [
    "print(order_reviews_df.isna().sum() / len(order_reviews_df) * 100) # % of nan values\n",
    "order_reviews_df.drop(columns=[\"review_comment_title\", \"review_comment_message\"], inplace=True)\n",
    "order_reviews_df.isna().sum()\n"
   ]
  },
  {
   "cell_type": "code",
   "execution_count": 25,
   "metadata": {},
   "outputs": [
    {
     "name": "stdout",
     "output_type": "stream",
     "text": [
      "product_id                      0\n",
      "product_category_name         610\n",
      "product_name_lenght           610\n",
      "product_description_lenght    610\n",
      "product_photos_qty            610\n",
      "product_weight_g                2\n",
      "product_length_cm               2\n",
      "product_height_cm               2\n",
      "product_width_cm                2\n",
      "dtype: int64\n",
      "product_id                    0\n",
      "product_category_name         0\n",
      "product_name_lenght           0\n",
      "product_description_lenght    0\n",
      "product_photos_qty            0\n",
      "product_weight_g              0\n",
      "product_length_cm             0\n",
      "product_height_cm             0\n",
      "product_width_cm              0\n",
      "dtype: int64\n"
     ]
    }
   ],
   "source": [
    "print(products_df.isna().sum())\n",
    "products_df.ffill(inplace=True)\n",
    "print(products_df.isna().sum())"
   ]
  },
  {
   "cell_type": "code",
   "execution_count": 26,
   "metadata": {},
   "outputs": [
    {
     "name": "stdout",
     "output_type": "stream",
     "text": [
      "<class 'pandas.core.frame.DataFrame'>\n",
      "RangeIndex: 99441 entries, 0 to 99440\n",
      "Data columns (total 8 columns):\n",
      " #   Column                         Non-Null Count  Dtype \n",
      "---  ------                         --------------  ----- \n",
      " 0   order_id                       99441 non-null  object\n",
      " 1   customer_id                    99441 non-null  object\n",
      " 2   order_status                   99441 non-null  object\n",
      " 3   order_purchase_timestamp       99441 non-null  object\n",
      " 4   order_approved_at              99441 non-null  object\n",
      " 5   order_delivered_carrier_date   99441 non-null  object\n",
      " 6   order_delivered_customer_date  99441 non-null  object\n",
      " 7   order_estimated_delivery_date  99441 non-null  object\n",
      "dtypes: object(8)\n",
      "memory usage: 6.1+ MB\n"
     ]
    }
   ],
   "source": [
    "orders_df.info()\n"
   ]
  },
  {
   "cell_type": "code",
   "execution_count": 27,
   "metadata": {},
   "outputs": [
    {
     "name": "stdout",
     "output_type": "stream",
     "text": [
      "<class 'pandas.core.frame.DataFrame'>\n",
      "RangeIndex: 99441 entries, 0 to 99440\n",
      "Data columns (total 8 columns):\n",
      " #   Column                         Non-Null Count  Dtype         \n",
      "---  ------                         --------------  -----         \n",
      " 0   order_id                       99441 non-null  object        \n",
      " 1   customer_id                    99441 non-null  object        \n",
      " 2   order_status                   99441 non-null  object        \n",
      " 3   order_purchase_timestamp       99441 non-null  datetime64[ns]\n",
      " 4   order_approved_at              99441 non-null  datetime64[ns]\n",
      " 5   order_delivered_carrier_date   99441 non-null  datetime64[ns]\n",
      " 6   order_delivered_customer_date  99441 non-null  datetime64[ns]\n",
      " 7   order_estimated_delivery_date  99441 non-null  datetime64[ns]\n",
      "dtypes: datetime64[ns](5), object(3)\n",
      "memory usage: 6.1+ MB\n"
     ]
    }
   ],
   "source": [
    "orders_df[[\n",
    "    \"order_purchase_timestamp\",\n",
    "    \"order_approved_at\",\n",
    "    \"order_delivered_carrier_date\",\n",
    "    \"order_delivered_customer_date\",\n",
    "    \"order_estimated_delivery_date\"\n",
    "]] = orders_df[[\n",
    "    \"order_purchase_timestamp\",\n",
    "    \"order_approved_at\",\n",
    "    \"order_delivered_carrier_date\",\n",
    "    \"order_delivered_customer_date\",\n",
    "    \"order_estimated_delivery_date\"\n",
    "]].apply(pd.to_datetime)\n",
    "orders_df.info()\n"
   ]
  },
  {
   "cell_type": "code",
   "execution_count": 28,
   "metadata": {},
   "outputs": [
    {
     "name": "stdout",
     "output_type": "stream",
     "text": [
      "<class 'pandas.core.frame.DataFrame'>\n",
      "RangeIndex: 100000 entries, 0 to 99999\n",
      "Data columns (total 5 columns):\n",
      " #   Column                   Non-Null Count   Dtype         \n",
      "---  ------                   --------------   -----         \n",
      " 0   review_id                100000 non-null  object        \n",
      " 1   order_id                 100000 non-null  object        \n",
      " 2   review_score             100000 non-null  int64         \n",
      " 3   review_creation_date     100000 non-null  datetime64[ns]\n",
      " 4   review_answer_timestamp  100000 non-null  datetime64[ns]\n",
      "dtypes: datetime64[ns](2), int64(1), object(2)\n",
      "memory usage: 3.8+ MB\n"
     ]
    }
   ],
   "source": [
    "order_reviews_df.head()\n",
    "order_reviews_df[\n",
    "    [\"review_creation_date\", \"review_answer_timestamp\"]\n",
    "] = order_reviews_df[\n",
    "    [\"review_creation_date\", \"review_answer_timestamp\"]\n",
    "].apply(pd.to_datetime)\n",
    "order_reviews_df.info()\n"
   ]
  },
  {
   "cell_type": "code",
   "execution_count": 29,
   "metadata": {},
   "outputs": [
    {
     "data": {
      "text/plain": [
       "{'customers_dataset':                             customer_id                customer_unique_id  \\\n",
       " 0      06b8999e2fba1a1fbc88172c00ba8bc7  861eff4711a542e4b93843c6dd7febb0   \n",
       " 1      18955e83d337fd6b2def6b18a428ac77  290c77bc529b7ac935b93aa66c333dc3   \n",
       " 2      4e7b3e00288586ebd08712fdd0374a03  060e732b5b29e8181a18229c7b0b2b5e   \n",
       " 3      b2b6027bc5c5109e529d4dc6358b12c3  259dac757896d24d7702b9acbbff3f3c   \n",
       " 4      4f2d8ab171c80ec8364f7c12e35b23ad  345ecd01c38d18a9036ed96c73b8d066   \n",
       " ...                                 ...                               ...   \n",
       " 99436  17ddf5dd5d51696bb3d7c6291687be6f  1a29b476fee25c95fbafc67c5ac95cf8   \n",
       " 99437  e7b71a9017aa05c9a7fd292d714858e8  d52a67c98be1cf6a5c84435bd38d095d   \n",
       " 99438  5e28dfe12db7fb50a4b2f691faecea5e  e9f50caf99f032f0bf3c55141f019d99   \n",
       " 99439  56b18e2166679b8a959d72dd06da27f9  73c2643a0a458b49f58cea58833b192e   \n",
       " 99440  274fa6071e5e17fe303b9748641082c8  84732c5050c01db9b23e19ba39899398   \n",
       " \n",
       "        customer_zip_code_prefix          customer_city customer_state  \n",
       " 0                         14409                 franca             SP  \n",
       " 1                          9790  sao bernardo do campo             SP  \n",
       " 2                          1151              sao paulo             SP  \n",
       " 3                          8775        mogi das cruzes             SP  \n",
       " 4                         13056               campinas             SP  \n",
       " ...                         ...                    ...            ...  \n",
       " 99436                      3937              sao paulo             SP  \n",
       " 99437                      6764        taboao da serra             SP  \n",
       " 99438                     60115              fortaleza             CE  \n",
       " 99439                     92120                 canoas             RS  \n",
       " 99440                      6703                  cotia             SP  \n",
       " \n",
       " [99441 rows x 5 columns],\n",
       " 'geolocation_dataset':         geolocation_zip_code_prefix  geolocation_lat  geolocation_lng  \\\n",
       " 0                              1037       -23.545621       -46.639292   \n",
       " 1                              1046       -23.546081       -46.644820   \n",
       " 3                              1041       -23.544392       -46.639499   \n",
       " 4                              1035       -23.541578       -46.641607   \n",
       " 5                              1012       -23.547762       -46.635361   \n",
       " ...                             ...              ...              ...   \n",
       " 999774                        99955       -28.107588       -52.144019   \n",
       " 999780                        99970       -28.345143       -51.876926   \n",
       " 999786                        99910       -27.863500       -52.084760   \n",
       " 999803                        99920       -27.858716       -52.300403   \n",
       " 999846                        99952       -28.160371       -51.936922   \n",
       " \n",
       "             geolocation_city geolocation_state  \n",
       " 0                  sao paulo                SP  \n",
       " 1                  sao paulo                SP  \n",
       " 3                  sao paulo                SP  \n",
       " 4                  sao paulo                SP  \n",
       " 5                  são paulo                SP  \n",
       " ...                      ...               ...  \n",
       " 999774          vila langaro                RS  \n",
       " 999780               ciriaco                RS  \n",
       " 999786      floriano peixoto                RS  \n",
       " 999803              erebango                RS  \n",
       " 999846  santa cecilia do sul                RS  \n",
       " \n",
       " [19015 rows x 5 columns],\n",
       " 'orders_dataset':                                order_id                       customer_id  \\\n",
       " 0      e481f51cbdc54678b7cc49136f2d6af7  9ef432eb6251297304e76186b10a928d   \n",
       " 1      53cdb2fc8bc7dce0b6741e2150273451  b0830fb4747a6c6d20dea0b8c802d7ef   \n",
       " 2      47770eb9100c2d0c44946d9cf07ec65d  41ce2a54c0b03bf3443c3d931a367089   \n",
       " 3      949d5b44dbf5de918fe9c16f97b45f8a  f88197465ea7920adcdbec7375364d82   \n",
       " 4      ad21c59c0840e6cb83a9ceb5573f8159  8ab97904e6daea8866dbdbc4fb7aad2c   \n",
       " ...                                 ...                               ...   \n",
       " 99436  9c5dedf39a927c1b2549525ed64a053c  39bd1228ee8140590ac3aca26f2dfe00   \n",
       " 99437  63943bddc261676b46f01ca7ac2f7bd8  1fca14ff2861355f6e5f14306ff977a7   \n",
       " 99438  83c1379a015df1e13d02aae0204711ab  1aa71eb042121263aafbe80c1b562c9c   \n",
       " 99439  11c177c8e97725db2631073c19f07b62  b331b74b18dc79bcdf6532d51e1637c1   \n",
       " 99440  66dea50a8b16d9b4dee7af250b4be1a5  edb027a75a1449115f6b43211ae02a24   \n",
       " \n",
       "       order_status order_purchase_timestamp   order_approved_at  \\\n",
       " 0        delivered      2017-10-02 10:56:33 2017-10-02 11:07:15   \n",
       " 1        delivered      2018-07-24 20:41:37 2018-07-26 03:24:27   \n",
       " 2        delivered      2018-08-08 08:38:49 2018-08-08 08:55:23   \n",
       " 3        delivered      2017-11-18 19:28:06 2017-11-18 19:45:59   \n",
       " 4        delivered      2018-02-13 21:18:39 2018-02-13 22:20:29   \n",
       " ...            ...                      ...                 ...   \n",
       " 99436    delivered      2017-03-09 09:54:05 2017-03-09 09:54:05   \n",
       " 99437    delivered      2018-02-06 12:58:58 2018-02-06 13:10:37   \n",
       " 99438    delivered      2017-08-27 14:46:43 2017-08-27 15:04:16   \n",
       " 99439    delivered      2018-01-08 21:28:27 2018-01-08 21:36:21   \n",
       " 99440    delivered      2018-03-08 20:57:30 2018-03-09 11:20:28   \n",
       " \n",
       "       order_delivered_carrier_date order_delivered_customer_date  \\\n",
       " 0              2017-10-04 19:55:00           2017-10-10 21:25:13   \n",
       " 1              2018-07-26 14:31:00           2018-08-07 15:27:45   \n",
       " 2              2018-08-08 13:50:00           2018-08-17 18:06:29   \n",
       " 3              2017-11-22 13:39:59           2017-12-02 00:28:42   \n",
       " 4              2018-02-14 19:46:34           2018-02-16 18:17:02   \n",
       " ...                            ...                           ...   \n",
       " 99436          2017-03-10 11:18:03           2017-03-17 15:08:01   \n",
       " 99437          2018-02-07 23:22:42           2018-02-28 17:37:56   \n",
       " 99438          2017-08-28 20:52:26           2017-09-21 11:24:17   \n",
       " 99439          2018-01-12 15:35:03           2018-01-25 23:32:54   \n",
       " 99440          2018-03-09 22:11:59           2018-03-16 13:08:30   \n",
       " \n",
       "       order_estimated_delivery_date  \n",
       " 0                        2017-10-18  \n",
       " 1                        2018-08-13  \n",
       " 2                        2018-09-04  \n",
       " 3                        2017-12-15  \n",
       " 4                        2018-02-26  \n",
       " ...                             ...  \n",
       " 99436                    2017-03-28  \n",
       " 99437                    2018-03-02  \n",
       " 99438                    2017-09-27  \n",
       " 99439                    2018-02-15  \n",
       " 99440                    2018-04-03  \n",
       " \n",
       " [99441 rows x 8 columns],\n",
       " 'order_items_dataset':                                 order_id  order_item_id  \\\n",
       " 0       00010242fe8c5a6d1ba2dd792cb16214              1   \n",
       " 1       00018f77f2f0320c557190d7a144bdd3              1   \n",
       " 2       000229ec398224ef6ca0657da4fc703e              1   \n",
       " 3       00024acbcdf0a6daa1e931b038114c75              1   \n",
       " 4       00042b26cf59d7ce69dfabb4e55b4fd9              1   \n",
       " ...                                  ...            ...   \n",
       " 112645  fffc94f6ce00a00581880bf54a75a037              1   \n",
       " 112646  fffcd46ef2263f404302a634eb57f7eb              1   \n",
       " 112647  fffce4705a9662cd70adb13d4a31832d              1   \n",
       " 112648  fffe18544ffabc95dfada21779c9644f              1   \n",
       " 112649  fffe41c64501cc87c801fd61db3f6244              1   \n",
       " \n",
       "                               product_id                         seller_id  \\\n",
       " 0       4244733e06e7ecb4970a6e2683c13e61  48436dade18ac8b2bce089ec2a041202   \n",
       " 1       e5f2d52b802189ee658865ca93d83a8f  dd7ddc04e1b6c2c614352b383efe2d36   \n",
       " 2       c777355d18b72b67abbeef9df44fd0fd  5b51032eddd242adc84c38acab88f23d   \n",
       " 3       7634da152a4610f1595efa32f14722fc  9d7a1d34a5052409006425275ba1c2b4   \n",
       " 4       ac6c3623068f30de03045865e4e10089  df560393f3a51e74553ab94004ba5c87   \n",
       " ...                                  ...                               ...   \n",
       " 112645  4aa6014eceb682077f9dc4bffebc05b0  b8bc237ba3788b23da09c0f1f3a3288c   \n",
       " 112646  32e07fd915822b0765e448c4dd74c828  f3c38ab652836d21de61fb8314b69182   \n",
       " 112647  72a30483855e2eafc67aee5dc2560482  c3cfdc648177fdbbbb35635a37472c53   \n",
       " 112648  9c422a519119dcad7575db5af1ba540e  2b3e4a2a3ea8e01938cabda2a3e5cc79   \n",
       " 112649  350688d9dc1e75ff97be326363655e01  f7ccf836d21b2fb1de37564105216cc1   \n",
       " \n",
       "         shipping_limit_date   price  freight_value  \n",
       " 0       2017-09-19 09:45:35   58.90          13.29  \n",
       " 1       2017-05-03 11:05:13  239.90          19.93  \n",
       " 2       2018-01-18 14:48:30  199.00          17.87  \n",
       " 3       2018-08-15 10:10:18   12.99          12.79  \n",
       " 4       2017-02-13 13:57:51  199.90          18.14  \n",
       " ...                     ...     ...            ...  \n",
       " 112645  2018-05-02 04:11:01  299.99          43.41  \n",
       " 112646  2018-07-20 04:31:48  350.00          36.53  \n",
       " 112647  2017-10-30 17:14:25   99.90          16.95  \n",
       " 112648  2017-08-21 00:04:32   55.99           8.72  \n",
       " 112649  2018-06-12 17:10:13   43.00          12.79  \n",
       " \n",
       " [112650 rows x 7 columns],\n",
       " 'order_payments_dataset':                                 order_id  payment_sequential payment_type  \\\n",
       " 0       b81ef226f3fe1789b1e8b2acac839d17                   1  credit_card   \n",
       " 1       a9810da82917af2d9aefd1278f1dcfa0                   1  credit_card   \n",
       " 2       25e8ea4e93396b6fa0d3dd708e76c1bd                   1  credit_card   \n",
       " 3       ba78997921bbcdc1373bb41e913ab953                   1  credit_card   \n",
       " 4       42fdf880ba16b47b59251dd489d4441a                   1  credit_card   \n",
       " ...                                  ...                 ...          ...   \n",
       " 103881  0406037ad97740d563a178ecc7a2075c                   1       boleto   \n",
       " 103882  7b905861d7c825891d6347454ea7863f                   1  credit_card   \n",
       " 103883  32609bbb3dd69b3c066a6860554a77bf                   1  credit_card   \n",
       " 103884  b8b61059626efa996a60be9bb9320e10                   1  credit_card   \n",
       " 103885  28bbae6599b09d39ca406b747b6632b1                   1       boleto   \n",
       " \n",
       "         payment_installments  payment_value  \n",
       " 0                          8          99.33  \n",
       " 1                          1          24.39  \n",
       " 2                          1          65.71  \n",
       " 3                          8         107.78  \n",
       " 4                          2         128.45  \n",
       " ...                      ...            ...  \n",
       " 103881                     1         363.31  \n",
       " 103882                     2          96.80  \n",
       " 103883                     1          47.77  \n",
       " 103884                     5         369.54  \n",
       " 103885                     1         191.58  \n",
       " \n",
       " [103886 rows x 5 columns],\n",
       " 'order_reviews_dataset':                               review_id                          order_id  \\\n",
       " 0      7bc2406110b926393aa56f80a40eba40  73fc7af87114b39712e6da79b0a377eb   \n",
       " 1      80e641a11e56f04c1ad469d5645fdfde  a548910a1c6147796b98fdf73dbeba33   \n",
       " 2      228ce5500dc1d8e020d8d1322874b6f0  f9e4b658b201a9f2ecdecbb34bed034b   \n",
       " 3      e64fb393e7b32834bb789ff8bb30750e  658677c97b385a9be170737859d3511b   \n",
       " 4      f7c4243c7fe1938f181bec41a392bdeb  8e6bfb81e283fa7e4f11123a3fb894f1   \n",
       " ...                                 ...                               ...   \n",
       " 99995  f3897127253a9592a73be9bdfdf4ed7a  22ec9f0669f784db00fa86d035cf8602   \n",
       " 99996  b3de70c89b1510c4cd3d0649fd302472  55d4004744368f5571d1f590031933e4   \n",
       " 99997  1adeb9d84d72fe4e337617733eb85149  7725825d039fc1f0ceb7635e3f7d9206   \n",
       " 99998  be360f18f5df1e0541061c87021e6d93  f8bd3f2000c28c5342fedeb5e50f2e75   \n",
       " 99999  efe49f1d6f951dd88b51e6ccd4cc548f  90531360ecb1eec2a1fbb265a0db0508   \n",
       " \n",
       "        review_score review_creation_date review_answer_timestamp  \n",
       " 0                 4           2018-01-18     2018-01-18 21:46:59  \n",
       " 1                 5           2018-03-10     2018-03-11 03:05:13  \n",
       " 2                 5           2018-02-17     2018-02-18 14:36:24  \n",
       " 3                 5           2017-04-21     2017-04-21 22:02:06  \n",
       " 4                 5           2018-03-01     2018-03-02 10:26:53  \n",
       " ...             ...                  ...                     ...  \n",
       " 99995             5           2017-12-09     2017-12-11 20:06:42  \n",
       " 99996             5           2018-03-22     2018-03-23 09:10:43  \n",
       " 99997             4           2018-07-01     2018-07-02 12:59:13  \n",
       " 99998             1           2017-12-15     2017-12-16 01:29:43  \n",
       " 99999             1           2017-07-03     2017-07-03 21:01:49  \n",
       " \n",
       " [100000 rows x 5 columns],\n",
       " 'products_dataset':                              product_id              product_category_name  \\\n",
       " 0      1e9e8ef04dbcff4541ed26657ea517e5                         perfumaria   \n",
       " 1      3aa071139cb16b67ca9e5dea641aaa2f                              artes   \n",
       " 2      96bd76ec8810374ed1b65e291975717f                      esporte_lazer   \n",
       " 3      cef67bcfe19066a932b7673e239eb23d                              bebes   \n",
       " 4      9dc1a7de274444849c219cff195d0b71              utilidades_domesticas   \n",
       " ...                                 ...                                ...   \n",
       " 32946  a0b7d5a992ccda646f2d34e418fff5a0                   moveis_decoracao   \n",
       " 32947  bf4538d88321d0fd4412a93c974510e6  construcao_ferramentas_iluminacao   \n",
       " 32948  9a7c6041fa9592d9d9ef6cfe62a71f8c                    cama_mesa_banho   \n",
       " 32949  83808703fc0706a22e264b9d75f04a2e             informatica_acessorios   \n",
       " 32950  106392145fca363410d287a815be6de4                    cama_mesa_banho   \n",
       " \n",
       "        product_name_lenght  product_description_lenght  product_photos_qty  \\\n",
       " 0                     40.0                       287.0                 1.0   \n",
       " 1                     44.0                       276.0                 1.0   \n",
       " 2                     46.0                       250.0                 1.0   \n",
       " 3                     27.0                       261.0                 1.0   \n",
       " 4                     37.0                       402.0                 4.0   \n",
       " ...                    ...                         ...                 ...   \n",
       " 32946                 45.0                        67.0                 2.0   \n",
       " 32947                 41.0                       971.0                 1.0   \n",
       " 32948                 50.0                       799.0                 1.0   \n",
       " 32949                 60.0                       156.0                 2.0   \n",
       " 32950                 58.0                       309.0                 1.0   \n",
       " \n",
       "        product_weight_g  product_length_cm  product_height_cm  \\\n",
       " 0                 225.0               16.0               10.0   \n",
       " 1                1000.0               30.0               18.0   \n",
       " 2                 154.0               18.0                9.0   \n",
       " 3                 371.0               26.0                4.0   \n",
       " 4                 625.0               20.0               17.0   \n",
       " ...                 ...                ...                ...   \n",
       " 32946           12300.0               40.0               40.0   \n",
       " 32947            1700.0               16.0               19.0   \n",
       " 32948            1400.0               27.0                7.0   \n",
       " 32949             700.0               31.0               13.0   \n",
       " 32950            2083.0               12.0                2.0   \n",
       " \n",
       "        product_width_cm  \n",
       " 0                  14.0  \n",
       " 1                  20.0  \n",
       " 2                  15.0  \n",
       " 3                  26.0  \n",
       " 4                  13.0  \n",
       " ...                 ...  \n",
       " 32946              40.0  \n",
       " 32947              16.0  \n",
       " 32948              27.0  \n",
       " 32949              20.0  \n",
       " 32950               7.0  \n",
       " \n",
       " [32951 rows x 9 columns],\n",
       " 'product_category_name_translation':             product_category_name product_category_name_english\n",
       " 0                    beleza_saude                 health_beauty\n",
       " 1          informatica_acessorios         computers_accessories\n",
       " 2                      automotivo                          auto\n",
       " 3                 cama_mesa_banho                bed_bath_table\n",
       " 4                moveis_decoracao               furniture_decor\n",
       " ..                            ...                           ...\n",
       " 66                         flores                       flowers\n",
       " 67             artes_e_artesanato         arts_and_craftmanship\n",
       " 68                fraldas_higiene           diapers_and_hygiene\n",
       " 69  fashion_roupa_infanto_juvenil     fashion_childrens_clothes\n",
       " 70             seguros_e_servicos         security_and_services\n",
       " \n",
       " [71 rows x 2 columns],\n",
       " 'sellers_dataset':                              seller_id  seller_zip_code_prefix  \\\n",
       " 0     3442f8959a84dea7ee197c632cb2df15                   13023   \n",
       " 1     d1b65fc7debc3361ea86b5f14c68d2e2                   13844   \n",
       " 2     ce3ad9de960102d0677a81f5d0bb7b2d                   20031   \n",
       " 3     c0f3eea2e14555b6faeea3dd58c1b1c3                    4195   \n",
       " 4     51a04a8a6bdcb23deccc82b0b80742cf                   12914   \n",
       " ...                                ...                     ...   \n",
       " 3090  98dddbc4601dd4443ca174359b237166                   87111   \n",
       " 3091  f8201cab383e484733266d1906e2fdfa                   88137   \n",
       " 3092  74871d19219c7d518d0090283e03c137                    4650   \n",
       " 3093  e603cf3fec55f8697c9059638d6c8eb5                   96080   \n",
       " 3094  9e25199f6ef7e7c347120ff175652c3b                   12051   \n",
       " \n",
       "             seller_city seller_state  \n",
       " 0              campinas           SP  \n",
       " 1            mogi guacu           SP  \n",
       " 2        rio de janeiro           RJ  \n",
       " 3             sao paulo           SP  \n",
       " 4     braganca paulista           SP  \n",
       " ...                 ...          ...  \n",
       " 3090            sarandi           PR  \n",
       " 3091            palhoca           SC  \n",
       " 3092          sao paulo           SP  \n",
       " 3093            pelotas           RS  \n",
       " 3094            taubate           SP  \n",
       " \n",
       " [3095 rows x 4 columns]}"
      ]
     },
     "execution_count": 29,
     "metadata": {},
     "output_type": "execute_result"
    }
   ],
   "source": [
    "df_dict"
   ]
  },
  {
   "cell_type": "code",
   "execution_count": 34,
   "metadata": {},
   "outputs": [],
   "source": [
    "from google.cloud import bigquery\n",
    "import ConnectBigQuery\n",
    "# Set up BigQuery client\n",
    "client = bigquery.Client()\n",
    "\n",
    "# Define BigQuery dataset and table\n",
    "\n",
    "BQ_PROJECT = \"black-seer-454106-e1\"\n",
    "BQ_DATASET = \"DataPipeline\"\n",
    "# BQ_TABLE = \"orders\"\n",
    "\n",
    "# table_id = f\"{BQ_PROJECT}.{BQ_DATASET}\""
   ]
  },
  {
   "cell_type": "code",
   "execution_count": 35,
   "metadata": {},
   "outputs": [
    {
     "name": "stderr",
     "output_type": "stream",
     "text": [
      "C:\\Users\\Tammana Triveni\\anaconda3\\Lib\\site-packages\\google\\cloud\\bigquery\\_pandas_helpers.py:483: FutureWarning: Loading pandas DataFrame into BigQuery will require pandas-gbq package version 0.26.1 or greater in the future. Tried to import pandas-gbq and got: No module named 'pandas_gbq'\n",
      "  warnings.warn(\n"
     ]
    },
    {
     "name": "stdout",
     "output_type": "stream",
     "text": [
      "customers Data uploaded successfully to BigQuery!\n"
     ]
    },
    {
     "name": "stderr",
     "output_type": "stream",
     "text": [
      "C:\\Users\\Tammana Triveni\\anaconda3\\Lib\\site-packages\\google\\cloud\\bigquery\\_pandas_helpers.py:483: FutureWarning: Loading pandas DataFrame into BigQuery will require pandas-gbq package version 0.26.1 or greater in the future. Tried to import pandas-gbq and got: No module named 'pandas_gbq'\n",
      "  warnings.warn(\n"
     ]
    },
    {
     "name": "stdout",
     "output_type": "stream",
     "text": [
      "geolocation Data uploaded successfully to BigQuery!\n"
     ]
    },
    {
     "name": "stderr",
     "output_type": "stream",
     "text": [
      "C:\\Users\\Tammana Triveni\\anaconda3\\Lib\\site-packages\\google\\cloud\\bigquery\\_pandas_helpers.py:483: FutureWarning: Loading pandas DataFrame into BigQuery will require pandas-gbq package version 0.26.1 or greater in the future. Tried to import pandas-gbq and got: No module named 'pandas_gbq'\n",
      "  warnings.warn(\n"
     ]
    },
    {
     "name": "stdout",
     "output_type": "stream",
     "text": [
      "order_items Data uploaded successfully to BigQuery!\n"
     ]
    },
    {
     "name": "stderr",
     "output_type": "stream",
     "text": [
      "C:\\Users\\Tammana Triveni\\anaconda3\\Lib\\site-packages\\google\\cloud\\bigquery\\_pandas_helpers.py:483: FutureWarning: Loading pandas DataFrame into BigQuery will require pandas-gbq package version 0.26.1 or greater in the future. Tried to import pandas-gbq and got: No module named 'pandas_gbq'\n",
      "  warnings.warn(\n"
     ]
    },
    {
     "name": "stdout",
     "output_type": "stream",
     "text": [
      "order_payments Data uploaded successfully to BigQuery!\n"
     ]
    },
    {
     "name": "stderr",
     "output_type": "stream",
     "text": [
      "C:\\Users\\Tammana Triveni\\anaconda3\\Lib\\site-packages\\google\\cloud\\bigquery\\_pandas_helpers.py:483: FutureWarning: Loading pandas DataFrame into BigQuery will require pandas-gbq package version 0.26.1 or greater in the future. Tried to import pandas-gbq and got: No module named 'pandas_gbq'\n",
      "  warnings.warn(\n"
     ]
    },
    {
     "name": "stdout",
     "output_type": "stream",
     "text": [
      "order_reviews Data uploaded successfully to BigQuery!\n"
     ]
    },
    {
     "name": "stderr",
     "output_type": "stream",
     "text": [
      "C:\\Users\\Tammana Triveni\\anaconda3\\Lib\\site-packages\\google\\cloud\\bigquery\\_pandas_helpers.py:483: FutureWarning: Loading pandas DataFrame into BigQuery will require pandas-gbq package version 0.26.1 or greater in the future. Tried to import pandas-gbq and got: No module named 'pandas_gbq'\n",
      "  warnings.warn(\n"
     ]
    },
    {
     "name": "stdout",
     "output_type": "stream",
     "text": [
      "Orders Data uploaded successfully to BigQuery!\n"
     ]
    },
    {
     "name": "stderr",
     "output_type": "stream",
     "text": [
      "C:\\Users\\Tammana Triveni\\anaconda3\\Lib\\site-packages\\google\\cloud\\bigquery\\_pandas_helpers.py:483: FutureWarning: Loading pandas DataFrame into BigQuery will require pandas-gbq package version 0.26.1 or greater in the future. Tried to import pandas-gbq and got: No module named 'pandas_gbq'\n",
      "  warnings.warn(\n"
     ]
    },
    {
     "name": "stdout",
     "output_type": "stream",
     "text": [
      "product_category_name_translation Data uploaded successfully to BigQuery!\n"
     ]
    },
    {
     "name": "stderr",
     "output_type": "stream",
     "text": [
      "C:\\Users\\Tammana Triveni\\anaconda3\\Lib\\site-packages\\google\\cloud\\bigquery\\_pandas_helpers.py:483: FutureWarning: Loading pandas DataFrame into BigQuery will require pandas-gbq package version 0.26.1 or greater in the future. Tried to import pandas-gbq and got: No module named 'pandas_gbq'\n",
      "  warnings.warn(\n"
     ]
    },
    {
     "name": "stdout",
     "output_type": "stream",
     "text": [
      "products Data uploaded successfully to BigQuery!\n"
     ]
    },
    {
     "name": "stderr",
     "output_type": "stream",
     "text": [
      "C:\\Users\\Tammana Triveni\\anaconda3\\Lib\\site-packages\\google\\cloud\\bigquery\\_pandas_helpers.py:483: FutureWarning: Loading pandas DataFrame into BigQuery will require pandas-gbq package version 0.26.1 or greater in the future. Tried to import pandas-gbq and got: No module named 'pandas_gbq'\n",
      "  warnings.warn(\n"
     ]
    },
    {
     "name": "stdout",
     "output_type": "stream",
     "text": [
      "sellers Data uploaded successfully to BigQuery!\n"
     ]
    }
   ],
   "source": [
    "# Upload DataFrame to BigQuery\n",
    "dflist = {\"customers\":customers_df,\n",
    "          \"geolocation\":geolocation_df,\n",
    "          \"order_items\":order_items_df,\n",
    "            \"order_payments\":order_payments_df,\n",
    "            \"order_reviews\":order_reviews_df,\n",
    "            \"Orders\":orders_df,\n",
    "            \"product_category_name_translation\":product_category_name_translation_df,\n",
    "            \"products\":products_df,\n",
    "            \"sellers\":sellers_df\n",
    "            }\n",
    "for i,j in dflist.items():\n",
    "    table_id = f\"{BQ_PROJECT}.{BQ_DATASET}.{i}\"\n",
    "    job = client.load_table_from_dataframe(j, table_id, job_config=bigquery.LoadJobConfig(\n",
    "        write_disposition=\"WRITE_TRUNCATE\"  # Overwrites table if exists\n",
    "    ))\n",
    "\n",
    "    # Wait for the job to complete\n",
    "    job.result()\n",
    "\n",
    "    print(f\"{i} Data uploaded successfully to BigQuery!\")"
   ]
  },
  {
   "cell_type": "code",
   "execution_count": null,
   "metadata": {},
   "outputs": [
    {
     "name": "stdout",
     "output_type": "stream",
     "text": [
      "Collecting pandas_gbq\n",
      "  Downloading pandas_gbq-0.28.0-py2.py3-none-any.whl.metadata (3.3 kB)\n",
      "Requirement already satisfied: setuptools in c:\\users\\tammana triveni\\anaconda3\\lib\\site-packages (from pandas_gbq) (75.1.0)\n",
      "Requirement already satisfied: db-dtypes<2.0.0,>=1.0.4 in c:\\users\\tammana triveni\\anaconda3\\lib\\site-packages (from pandas_gbq) (1.4.2)\n",
      "Requirement already satisfied: numpy>=1.18.1 in c:\\users\\tammana triveni\\anaconda3\\lib\\site-packages (from pandas_gbq) (1.26.4)\n",
      "Requirement already satisfied: pandas>=1.1.4 in c:\\users\\tammana triveni\\anaconda3\\lib\\site-packages (from pandas_gbq) (2.2.2)\n",
      "Requirement already satisfied: pyarrow>=4.0.0 in c:\\users\\tammana triveni\\anaconda3\\lib\\site-packages (from pandas_gbq) (16.1.0)\n",
      "Collecting pydata-google-auth>=1.5.0 (from pandas_gbq)\n",
      "  Downloading pydata_google_auth-1.9.1-py2.py3-none-any.whl.metadata (2.8 kB)\n",
      "Requirement already satisfied: google-api-core<3.0.0dev,>=2.10.2 in c:\\users\\tammana triveni\\anaconda3\\lib\\site-packages (from pandas_gbq) (2.24.2)\n",
      "Requirement already satisfied: google-auth>=2.13.0 in c:\\users\\tammana triveni\\anaconda3\\lib\\site-packages (from pandas_gbq) (2.38.0)\n",
      "Collecting google-auth-oauthlib>=0.7.0 (from pandas_gbq)\n",
      "  Downloading google_auth_oauthlib-1.2.1-py2.py3-none-any.whl.metadata (2.7 kB)\n",
      "Requirement already satisfied: google-cloud-bigquery<4.0.0dev,>=3.4.2 in c:\\users\\tammana triveni\\anaconda3\\lib\\site-packages (from pandas_gbq) (3.30.0)\n",
      "Requirement already satisfied: packaging>=22.0.0 in c:\\users\\tammana triveni\\anaconda3\\lib\\site-packages (from pandas_gbq) (24.1)\n",
      "Requirement already satisfied: googleapis-common-protos<2.0.0,>=1.56.2 in c:\\users\\tammana triveni\\anaconda3\\lib\\site-packages (from google-api-core<3.0.0dev,>=2.10.2->pandas_gbq) (1.69.2)\n",
      "Requirement already satisfied: protobuf!=3.20.0,!=3.20.1,!=4.21.0,!=4.21.1,!=4.21.2,!=4.21.3,!=4.21.4,!=4.21.5,<7.0.0,>=3.19.5 in c:\\users\\tammana triveni\\anaconda3\\lib\\site-packages (from google-api-core<3.0.0dev,>=2.10.2->pandas_gbq) (5.29.3)\n",
      "Requirement already satisfied: proto-plus<2.0.0,>=1.22.3 in c:\\users\\tammana triveni\\anaconda3\\lib\\site-packages (from google-api-core<3.0.0dev,>=2.10.2->pandas_gbq) (1.26.1)\n",
      "Requirement already satisfied: requests<3.0.0,>=2.18.0 in c:\\users\\tammana triveni\\anaconda3\\lib\\site-packages (from google-api-core<3.0.0dev,>=2.10.2->pandas_gbq) (2.32.3)\n",
      "Requirement already satisfied: cachetools<6.0,>=2.0.0 in c:\\users\\tammana triveni\\anaconda3\\lib\\site-packages (from google-auth>=2.13.0->pandas_gbq) (5.3.3)\n",
      "Requirement already satisfied: pyasn1-modules>=0.2.1 in c:\\users\\tammana triveni\\anaconda3\\lib\\site-packages (from google-auth>=2.13.0->pandas_gbq) (0.2.8)\n",
      "Requirement already satisfied: rsa<5,>=3.1.4 in c:\\users\\tammana triveni\\anaconda3\\lib\\site-packages (from google-auth>=2.13.0->pandas_gbq) (4.9)\n",
      "Collecting requests-oauthlib>=0.7.0 (from google-auth-oauthlib>=0.7.0->pandas_gbq)\n",
      "  Downloading requests_oauthlib-2.0.0-py2.py3-none-any.whl.metadata (11 kB)\n",
      "Requirement already satisfied: google-cloud-core<3.0.0dev,>=2.4.1 in c:\\users\\tammana triveni\\anaconda3\\lib\\site-packages (from google-cloud-bigquery<4.0.0dev,>=3.4.2->pandas_gbq) (2.4.3)\n",
      "Requirement already satisfied: google-resumable-media<3.0dev,>=2.0.0 in c:\\users\\tammana triveni\\anaconda3\\lib\\site-packages (from google-cloud-bigquery<4.0.0dev,>=3.4.2->pandas_gbq) (2.7.2)\n",
      "Requirement already satisfied: python-dateutil<3.0dev,>=2.7.3 in c:\\users\\tammana triveni\\anaconda3\\lib\\site-packages (from google-cloud-bigquery<4.0.0dev,>=3.4.2->pandas_gbq) (2.9.0.post0)\n",
      "Requirement already satisfied: pytz>=2020.1 in c:\\users\\tammana triveni\\anaconda3\\lib\\site-packages (from pandas>=1.1.4->pandas_gbq) (2024.1)\n",
      "Requirement already satisfied: tzdata>=2022.7 in c:\\users\\tammana triveni\\anaconda3\\lib\\site-packages (from pandas>=1.1.4->pandas_gbq) (2023.3)\n",
      "Requirement already satisfied: grpcio<2.0dev,>=1.33.2 in c:\\users\\tammana triveni\\anaconda3\\lib\\site-packages (from google-api-core[grpc]<3.0.0dev,>=2.11.1->google-cloud-bigquery<4.0.0dev,>=3.4.2->pandas_gbq) (1.71.0)\n",
      "Requirement already satisfied: grpcio-status<2.0.dev0,>=1.33.2 in c:\\users\\tammana triveni\\anaconda3\\lib\\site-packages (from google-api-core[grpc]<3.0.0dev,>=2.11.1->google-cloud-bigquery<4.0.0dev,>=3.4.2->pandas_gbq) (1.71.0)\n",
      "Requirement already satisfied: google-crc32c<2.0dev,>=1.0 in c:\\users\\tammana triveni\\anaconda3\\lib\\site-packages (from google-resumable-media<3.0dev,>=2.0.0->google-cloud-bigquery<4.0.0dev,>=3.4.2->pandas_gbq) (1.7.0)\n",
      "Requirement already satisfied: pyasn1<0.5.0,>=0.4.6 in c:\\users\\tammana triveni\\anaconda3\\lib\\site-packages (from pyasn1-modules>=0.2.1->google-auth>=2.13.0->pandas_gbq) (0.4.8)\n",
      "Requirement already satisfied: six>=1.5 in c:\\users\\tammana triveni\\anaconda3\\lib\\site-packages (from python-dateutil<3.0dev,>=2.7.3->google-cloud-bigquery<4.0.0dev,>=3.4.2->pandas_gbq) (1.16.0)\n",
      "Requirement already satisfied: charset-normalizer<4,>=2 in c:\\users\\tammana triveni\\anaconda3\\lib\\site-packages (from requests<3.0.0,>=2.18.0->google-api-core<3.0.0dev,>=2.10.2->pandas_gbq) (3.3.2)\n",
      "Requirement already satisfied: idna<4,>=2.5 in c:\\users\\tammana triveni\\anaconda3\\lib\\site-packages (from requests<3.0.0,>=2.18.0->google-api-core<3.0.0dev,>=2.10.2->pandas_gbq) (3.7)\n",
      "Requirement already satisfied: urllib3<3,>=1.21.1 in c:\\users\\tammana triveni\\anaconda3\\lib\\site-packages (from requests<3.0.0,>=2.18.0->google-api-core<3.0.0dev,>=2.10.2->pandas_gbq) (2.2.3)\n",
      "Requirement already satisfied: certifi>=2017.4.17 in c:\\users\\tammana triveni\\anaconda3\\lib\\site-packages (from requests<3.0.0,>=2.18.0->google-api-core<3.0.0dev,>=2.10.2->pandas_gbq) (2024.8.30)\n",
      "Collecting oauthlib>=3.0.0 (from requests-oauthlib>=0.7.0->google-auth-oauthlib>=0.7.0->pandas_gbq)\n",
      "  Downloading oauthlib-3.2.2-py3-none-any.whl.metadata (7.5 kB)\n",
      "Downloading pandas_gbq-0.28.0-py2.py3-none-any.whl (37 kB)\n",
      "Downloading google_auth_oauthlib-1.2.1-py2.py3-none-any.whl (24 kB)\n",
      "Downloading pydata_google_auth-1.9.1-py2.py3-none-any.whl (15 kB)\n",
      "Downloading requests_oauthlib-2.0.0-py2.py3-none-any.whl (24 kB)\n",
      "Downloading oauthlib-3.2.2-py3-none-any.whl (151 kB)\n",
      "Installing collected packages: oauthlib, requests-oauthlib, google-auth-oauthlib, pydata-google-auth, pandas_gbq\n",
      "Successfully installed google-auth-oauthlib-1.2.1 oauthlib-3.2.2 pandas_gbq-0.28.0 pydata-google-auth-1.9.1 requests-oauthlib-2.0.0\n"
     ]
    }
   ],
   "source": [
    "# !pip install pandas_gbq"
   ]
  },
  {
   "cell_type": "code",
   "execution_count": 36,
   "metadata": {},
   "outputs": [
    {
     "data": {
      "text/plain": [
       "0        delivered\n",
       "1        delivered\n",
       "2        delivered\n",
       "3        delivered\n",
       "4        delivered\n",
       "           ...    \n",
       "99436    delivered\n",
       "99437    delivered\n",
       "99438    delivered\n",
       "99439    delivered\n",
       "99440    delivered\n",
       "Name: order_status, Length: 99441, dtype: object"
      ]
     },
     "execution_count": 36,
     "metadata": {},
     "output_type": "execute_result"
    }
   ],
   "source": [
    "orders_df[\"order_status\"]"
   ]
  },
  {
   "cell_type": "code",
   "execution_count": 37,
   "metadata": {},
   "outputs": [
    {
     "data": {
      "text/html": [
       "<div>\n",
       "<style scoped>\n",
       "    .dataframe tbody tr th:only-of-type {\n",
       "        vertical-align: middle;\n",
       "    }\n",
       "\n",
       "    .dataframe tbody tr th {\n",
       "        vertical-align: top;\n",
       "    }\n",
       "\n",
       "    .dataframe thead th {\n",
       "        text-align: right;\n",
       "    }\n",
       "</style>\n",
       "<table border=\"1\" class=\"dataframe\">\n",
       "  <thead>\n",
       "    <tr style=\"text-align: right;\">\n",
       "      <th></th>\n",
       "      <th>event_id</th>\n",
       "      <th>user_id</th>\n",
       "      <th>event_type</th>\n",
       "      <th>product_id</th>\n",
       "      <th>price</th>\n",
       "      <th>timestamp</th>\n",
       "    </tr>\n",
       "  </thead>\n",
       "  <tbody>\n",
       "    <tr>\n",
       "      <th>0</th>\n",
       "      <td>eb48494c-eab4-4906-bc4b-7858ed22b751</td>\n",
       "      <td>c848d07d-8c1c-4a7e-823d-793ef4e4af53</td>\n",
       "      <td>login</td>\n",
       "      <td>None</td>\n",
       "      <td>NaN</td>\n",
       "      <td>2025-03-20T22:38:01.874984</td>\n",
       "    </tr>\n",
       "    <tr>\n",
       "      <th>1</th>\n",
       "      <td>414e42b5-9c26-45e9-9d2e-1ad8d7da3273</td>\n",
       "      <td>d1897991-1022-4226-a08e-ce86f5d43fba</td>\n",
       "      <td>checkout</td>\n",
       "      <td>8b1f54d7-9975-41cb-b4d9-46f9f05d0342</td>\n",
       "      <td>211.66</td>\n",
       "      <td>2025-03-20T22:38:07.569434</td>\n",
       "    </tr>\n",
       "    <tr>\n",
       "      <th>2</th>\n",
       "      <td>6c2067b3-49ec-482f-a59e-b376ee98cd6e</td>\n",
       "      <td>04290223-0b67-4027-b60b-12e6b612d8a3</td>\n",
       "      <td>logout</td>\n",
       "      <td>None</td>\n",
       "      <td>NaN</td>\n",
       "      <td>2025-03-20T22:38:12.466694</td>\n",
       "    </tr>\n",
       "    <tr>\n",
       "      <th>3</th>\n",
       "      <td>7d684625-34ed-452f-ac7e-f3c22029194d</td>\n",
       "      <td>e1824894-bada-42f7-b70b-78afff42da55</td>\n",
       "      <td>logout</td>\n",
       "      <td>None</td>\n",
       "      <td>NaN</td>\n",
       "      <td>2025-03-20T22:38:17.106677</td>\n",
       "    </tr>\n",
       "    <tr>\n",
       "      <th>4</th>\n",
       "      <td>cdc490a3-ff41-41bd-988d-e0fd3a69c4d8</td>\n",
       "      <td>fff3d559-0170-4748-be66-f8dfd33afef9</td>\n",
       "      <td>search_product</td>\n",
       "      <td>689258e5-990d-43e2-ad60-106fc596c640</td>\n",
       "      <td>NaN</td>\n",
       "      <td>2025-03-20T22:38:21.639980</td>\n",
       "    </tr>\n",
       "    <tr>\n",
       "      <th>5</th>\n",
       "      <td>e1e22293-770d-41ba-bd02-91a1e53334ca</td>\n",
       "      <td>e161f076-5783-48af-a34a-1046cb02466a</td>\n",
       "      <td>page_view</td>\n",
       "      <td>87babc21-8e83-46c7-bdad-6027738fab4a</td>\n",
       "      <td>NaN</td>\n",
       "      <td>2025-03-20T22:38:26.487179</td>\n",
       "    </tr>\n",
       "    <tr>\n",
       "      <th>6</th>\n",
       "      <td>d5258e79-b380-48bc-80b6-043f5d64ef94</td>\n",
       "      <td>c56e91ba-e96e-467a-9398-b792f71d7e6c</td>\n",
       "      <td>login</td>\n",
       "      <td>None</td>\n",
       "      <td>NaN</td>\n",
       "      <td>2025-03-20T22:38:30.895191</td>\n",
       "    </tr>\n",
       "    <tr>\n",
       "      <th>7</th>\n",
       "      <td>07736d55-d4b1-4824-8226-dc6d7d942cd2</td>\n",
       "      <td>2bdbcbc1-fbc8-490d-9124-e46ff8e30399</td>\n",
       "      <td>logout</td>\n",
       "      <td>None</td>\n",
       "      <td>NaN</td>\n",
       "      <td>2025-03-20T22:38:36.201266</td>\n",
       "    </tr>\n",
       "    <tr>\n",
       "      <th>8</th>\n",
       "      <td>a3084b5c-515a-4c04-ac33-ba972196e2c4</td>\n",
       "      <td>ff898541-697e-4100-ab52-6e5ff5eb7bd7</td>\n",
       "      <td>search_product</td>\n",
       "      <td>4e0c171b-a847-4899-a110-7489c31418f7</td>\n",
       "      <td>NaN</td>\n",
       "      <td>2025-03-20T22:38:41.276576</td>\n",
       "    </tr>\n",
       "    <tr>\n",
       "      <th>9</th>\n",
       "      <td>524e4b93-dd94-4e67-ac62-9aa03fa559e4</td>\n",
       "      <td>fe7d1e7a-6268-40d4-9a1e-62bbb1dbb39c</td>\n",
       "      <td>checkout</td>\n",
       "      <td>8bed761c-0441-4eb7-84e4-b50a02e6b570</td>\n",
       "      <td>219.48</td>\n",
       "      <td>2025-03-20T22:38:45.782181</td>\n",
       "    </tr>\n",
       "    <tr>\n",
       "      <th>10</th>\n",
       "      <td>4d4e0728-9dc8-4c25-80cd-4e5d7b5948d4</td>\n",
       "      <td>685bf7bf-53dc-4a8d-95e1-1426d6fd8505</td>\n",
       "      <td>logout</td>\n",
       "      <td>None</td>\n",
       "      <td>NaN</td>\n",
       "      <td>2025-03-20T22:38:50.300960</td>\n",
       "    </tr>\n",
       "    <tr>\n",
       "      <th>11</th>\n",
       "      <td>9bba93a6-f3e8-4b43-9f14-d7c1c12a5700</td>\n",
       "      <td>3de13d6f-60fb-4bde-8149-6b1259a7f1be</td>\n",
       "      <td>remove_from_cart</td>\n",
       "      <td>a5bc4b30-a428-4811-a587-5ce803e9c71b</td>\n",
       "      <td>NaN</td>\n",
       "      <td>2025-03-20T22:38:54.794154</td>\n",
       "    </tr>\n",
       "    <tr>\n",
       "      <th>12</th>\n",
       "      <td>a128fc5c-231f-4e53-bb50-279721808d30</td>\n",
       "      <td>2bf96d9f-dd21-47fc-b7f3-a688184a4075</td>\n",
       "      <td>add_to_cart</td>\n",
       "      <td>c041f6fc-7475-4d1a-93e8-03ad95387f47</td>\n",
       "      <td>94.45</td>\n",
       "      <td>2025-03-20T22:38:59.764330</td>\n",
       "    </tr>\n",
       "    <tr>\n",
       "      <th>13</th>\n",
       "      <td>18f7c908-e5d7-43bf-b298-01b5f1f75dac</td>\n",
       "      <td>60ab756d-a3e4-4084-863b-dbfd78cb4461</td>\n",
       "      <td>apply_coupon</td>\n",
       "      <td>2e2b349c-14c8-47a9-ba37-611c9ad855e0</td>\n",
       "      <td>487.91</td>\n",
       "      <td>2025-03-20T22:39:05.079332</td>\n",
       "    </tr>\n",
       "    <tr>\n",
       "      <th>14</th>\n",
       "      <td>d77dd487-f403-4278-b71b-45d9ad4e4366</td>\n",
       "      <td>6935072f-d859-4467-abe7-f663c9f4ad28</td>\n",
       "      <td>logout</td>\n",
       "      <td>None</td>\n",
       "      <td>NaN</td>\n",
       "      <td>2025-03-20T22:39:10.205366</td>\n",
       "    </tr>\n",
       "    <tr>\n",
       "      <th>15</th>\n",
       "      <td>84752f69-054d-4e36-805c-7ed748d69270</td>\n",
       "      <td>3e6c10e0-472f-4597-8cab-2b1031274cd6</td>\n",
       "      <td>purchase</td>\n",
       "      <td>cd1dcdc8-1904-4bee-95a7-ce1315592fec</td>\n",
       "      <td>50.56</td>\n",
       "      <td>2025-03-20T22:39:14.497888</td>\n",
       "    </tr>\n",
       "    <tr>\n",
       "      <th>16</th>\n",
       "      <td>713ed14e-fd55-4533-a7cc-abe9799aab98</td>\n",
       "      <td>8d02dbc9-0f63-4b3c-8154-fa542f1e5592</td>\n",
       "      <td>search_product</td>\n",
       "      <td>21e9a148-3cb4-449d-9d6b-9b57a9a54839</td>\n",
       "      <td>NaN</td>\n",
       "      <td>2025-03-20T22:39:18.684061</td>\n",
       "    </tr>\n",
       "    <tr>\n",
       "      <th>17</th>\n",
       "      <td>c82a3984-2bda-421d-bd32-1ea99fe6b615</td>\n",
       "      <td>b72faa35-cd7b-43a8-9543-ac6e71c12ef6</td>\n",
       "      <td>logout</td>\n",
       "      <td>None</td>\n",
       "      <td>NaN</td>\n",
       "      <td>2025-03-20T22:39:23.669343</td>\n",
       "    </tr>\n",
       "    <tr>\n",
       "      <th>18</th>\n",
       "      <td>c9419445-f2e1-470a-b6c3-76e82734baec</td>\n",
       "      <td>3db937ee-c068-4123-840e-83957a6060ce</td>\n",
       "      <td>wishlist_remove</td>\n",
       "      <td>44fb9370-0b33-41da-bcc2-425f216348af</td>\n",
       "      <td>NaN</td>\n",
       "      <td>2025-03-20T22:39:28.883395</td>\n",
       "    </tr>\n",
       "    <tr>\n",
       "      <th>19</th>\n",
       "      <td>01250944-4e91-4cbd-a89d-a8fbc3cfc648</td>\n",
       "      <td>e5e8b3a7-ccc2-40c8-95e7-402d38a546be</td>\n",
       "      <td>apply_coupon</td>\n",
       "      <td>e2178130-cfb5-4717-b180-bdea2ba13bd8</td>\n",
       "      <td>128.51</td>\n",
       "      <td>2025-03-20T22:39:33.483837</td>\n",
       "    </tr>\n",
       "  </tbody>\n",
       "</table>\n",
       "</div>"
      ],
      "text/plain": [
       "                                event_id  \\\n",
       "0   eb48494c-eab4-4906-bc4b-7858ed22b751   \n",
       "1   414e42b5-9c26-45e9-9d2e-1ad8d7da3273   \n",
       "2   6c2067b3-49ec-482f-a59e-b376ee98cd6e   \n",
       "3   7d684625-34ed-452f-ac7e-f3c22029194d   \n",
       "4   cdc490a3-ff41-41bd-988d-e0fd3a69c4d8   \n",
       "5   e1e22293-770d-41ba-bd02-91a1e53334ca   \n",
       "6   d5258e79-b380-48bc-80b6-043f5d64ef94   \n",
       "7   07736d55-d4b1-4824-8226-dc6d7d942cd2   \n",
       "8   a3084b5c-515a-4c04-ac33-ba972196e2c4   \n",
       "9   524e4b93-dd94-4e67-ac62-9aa03fa559e4   \n",
       "10  4d4e0728-9dc8-4c25-80cd-4e5d7b5948d4   \n",
       "11  9bba93a6-f3e8-4b43-9f14-d7c1c12a5700   \n",
       "12  a128fc5c-231f-4e53-bb50-279721808d30   \n",
       "13  18f7c908-e5d7-43bf-b298-01b5f1f75dac   \n",
       "14  d77dd487-f403-4278-b71b-45d9ad4e4366   \n",
       "15  84752f69-054d-4e36-805c-7ed748d69270   \n",
       "16  713ed14e-fd55-4533-a7cc-abe9799aab98   \n",
       "17  c82a3984-2bda-421d-bd32-1ea99fe6b615   \n",
       "18  c9419445-f2e1-470a-b6c3-76e82734baec   \n",
       "19  01250944-4e91-4cbd-a89d-a8fbc3cfc648   \n",
       "\n",
       "                                 user_id        event_type  \\\n",
       "0   c848d07d-8c1c-4a7e-823d-793ef4e4af53             login   \n",
       "1   d1897991-1022-4226-a08e-ce86f5d43fba          checkout   \n",
       "2   04290223-0b67-4027-b60b-12e6b612d8a3            logout   \n",
       "3   e1824894-bada-42f7-b70b-78afff42da55            logout   \n",
       "4   fff3d559-0170-4748-be66-f8dfd33afef9    search_product   \n",
       "5   e161f076-5783-48af-a34a-1046cb02466a         page_view   \n",
       "6   c56e91ba-e96e-467a-9398-b792f71d7e6c             login   \n",
       "7   2bdbcbc1-fbc8-490d-9124-e46ff8e30399            logout   \n",
       "8   ff898541-697e-4100-ab52-6e5ff5eb7bd7    search_product   \n",
       "9   fe7d1e7a-6268-40d4-9a1e-62bbb1dbb39c          checkout   \n",
       "10  685bf7bf-53dc-4a8d-95e1-1426d6fd8505            logout   \n",
       "11  3de13d6f-60fb-4bde-8149-6b1259a7f1be  remove_from_cart   \n",
       "12  2bf96d9f-dd21-47fc-b7f3-a688184a4075       add_to_cart   \n",
       "13  60ab756d-a3e4-4084-863b-dbfd78cb4461      apply_coupon   \n",
       "14  6935072f-d859-4467-abe7-f663c9f4ad28            logout   \n",
       "15  3e6c10e0-472f-4597-8cab-2b1031274cd6          purchase   \n",
       "16  8d02dbc9-0f63-4b3c-8154-fa542f1e5592    search_product   \n",
       "17  b72faa35-cd7b-43a8-9543-ac6e71c12ef6            logout   \n",
       "18  3db937ee-c068-4123-840e-83957a6060ce   wishlist_remove   \n",
       "19  e5e8b3a7-ccc2-40c8-95e7-402d38a546be      apply_coupon   \n",
       "\n",
       "                              product_id   price                   timestamp  \n",
       "0                                   None     NaN  2025-03-20T22:38:01.874984  \n",
       "1   8b1f54d7-9975-41cb-b4d9-46f9f05d0342  211.66  2025-03-20T22:38:07.569434  \n",
       "2                                   None     NaN  2025-03-20T22:38:12.466694  \n",
       "3                                   None     NaN  2025-03-20T22:38:17.106677  \n",
       "4   689258e5-990d-43e2-ad60-106fc596c640     NaN  2025-03-20T22:38:21.639980  \n",
       "5   87babc21-8e83-46c7-bdad-6027738fab4a     NaN  2025-03-20T22:38:26.487179  \n",
       "6                                   None     NaN  2025-03-20T22:38:30.895191  \n",
       "7                                   None     NaN  2025-03-20T22:38:36.201266  \n",
       "8   4e0c171b-a847-4899-a110-7489c31418f7     NaN  2025-03-20T22:38:41.276576  \n",
       "9   8bed761c-0441-4eb7-84e4-b50a02e6b570  219.48  2025-03-20T22:38:45.782181  \n",
       "10                                  None     NaN  2025-03-20T22:38:50.300960  \n",
       "11  a5bc4b30-a428-4811-a587-5ce803e9c71b     NaN  2025-03-20T22:38:54.794154  \n",
       "12  c041f6fc-7475-4d1a-93e8-03ad95387f47   94.45  2025-03-20T22:38:59.764330  \n",
       "13  2e2b349c-14c8-47a9-ba37-611c9ad855e0  487.91  2025-03-20T22:39:05.079332  \n",
       "14                                  None     NaN  2025-03-20T22:39:10.205366  \n",
       "15  cd1dcdc8-1904-4bee-95a7-ce1315592fec   50.56  2025-03-20T22:39:14.497888  \n",
       "16  21e9a148-3cb4-449d-9d6b-9b57a9a54839     NaN  2025-03-20T22:39:18.684061  \n",
       "17                                  None     NaN  2025-03-20T22:39:23.669343  \n",
       "18  44fb9370-0b33-41da-bcc2-425f216348af     NaN  2025-03-20T22:39:28.883395  \n",
       "19  e2178130-cfb5-4717-b180-bdea2ba13bd8  128.51  2025-03-20T22:39:33.483837  "
      ]
     },
     "metadata": {},
     "output_type": "display_data"
    },
    {
     "name": "stderr",
     "output_type": "stream",
     "text": [
      "C:\\Users\\Tammana Triveni\\anaconda3\\Lib\\site-packages\\google\\cloud\\bigquery\\_pandas_helpers.py:483: FutureWarning: Loading pandas DataFrame into BigQuery will require pandas-gbq package version 0.26.1 or greater in the future. Tried to import pandas-gbq and got: No module named 'pandas_gbq'\n",
      "  warnings.warn(\n"
     ]
    }
   ],
   "source": [
    "import json\n",
    "import time\n",
    "import random\n",
    "import pandas as pd\n",
    "from faker import Faker\n",
    "from IPython.display import display, clear_output\n",
    "\n",
    "# Initialize Faker\n",
    "fake = Faker()\n",
    "\n",
    "# Define a variety of event types to simulate real customer behavior\n",
    "EVENT_TYPES = [\n",
    "    \"page_view\", \"search_product\", \"view_product\", \"add_to_cart\",\n",
    "    \"remove_from_cart\", \"wishlist_add\", \"wishlist_remove\", \"apply_coupon\",\n",
    "    \"checkout\", \"purchase\", \"login\", \"logout\"\n",
    "]\n",
    "\n",
    "# Create an empty DataFrame\n",
    "columns = [\"event_id\", \"user_id\", \"event_type\", \"product_id\", \"price\", \"timestamp\"]\n",
    "events_df = pd.DataFrame(columns=columns)\n",
    "\n",
    "# Function to generate a fake event\n",
    "def generate_event():\n",
    "    event_type = random.choice(EVENT_TYPES)  # Randomly pick an event type\n",
    "    \n",
    "    # Some events might not have a product_id or price (e.g., login, logout)\n",
    "    product_id = fake.uuid4() if event_type not in [\"login\", \"logout\"] else None\n",
    "    price = round(random.uniform(5, 500), 2) if event_type in [\"add_to_cart\", \"purchase\", \"apply_coupon\", \"checkout\"] else None\n",
    "    \n",
    "    return {\n",
    "        \"event_id\": fake.uuid4(),\n",
    "        \"user_id\": fake.uuid4(),\n",
    "        \"event_type\": event_type,\n",
    "        \"product_id\": product_id,\n",
    "        \"price\": price,\n",
    "        \"timestamp\": pd.Timestamp.now().isoformat()\n",
    "    }\n",
    "\n",
    "# Simulate real-time events\n",
    "for _ in range(20):  # Generate 20 events in real time\n",
    "    new_event = generate_event()  # Generate a new event\n",
    "    events_df = pd.concat([events_df, pd.DataFrame([new_event])], ignore_index=True)  # Append to DataFrame\n",
    "    table_id = f\"{BQ_PROJECT}.{BQ_DATASET}.events\"\n",
    "    # Clear previous output and display updated DataFrame\n",
    "    clear_output(wait=True)\n",
    "    display(events_df)\n",
    "    job = client.load_table_from_dataframe(events_df,table_id,job_config=bigquery.LoadJobConfig(\n",
    "        write_disposition = \"WRITE_TRUNCATE\"\n",
    "    ))\n",
    "    job.result()\n",
    "    time.sleep(2)  # Simulate real-time event streaming (1-second delay)\n"
   ]
  },
  {
   "cell_type": "code",
   "execution_count": null,
   "metadata": {},
   "outputs": [],
   "source": []
  }
 ],
 "metadata": {
  "kernelspec": {
   "display_name": "Python 3 (ipykernel)",
   "language": "python",
   "name": "python3"
  },
  "language_info": {
   "codemirror_mode": {
    "name": "ipython",
    "version": 3
   },
   "file_extension": ".py",
   "mimetype": "text/x-python",
   "name": "python",
   "nbconvert_exporter": "python",
   "pygments_lexer": "ipython3",
   "version": "3.12.7"
  }
 },
 "nbformat": 4,
 "nbformat_minor": 2
}
